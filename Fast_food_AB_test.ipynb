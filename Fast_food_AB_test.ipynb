{
 "cells": [
  {
   "cell_type": "markdown",
   "id": "d9fe368d",
   "metadata": {},
   "source": [
    "**Название датасета:**\n",
    "\n",
    "Fast Food Marketing Campaign A\\B Test\n",
    "\n",
    "**Ссылка на датасет:**\n",
    "\n",
    "https://www.kaggle.com/datasets/chebotinaa/fast-food-marketing-campaign-ab-test\n",
    "\n",
    "\n",
    "\n",
    "\n",
    "**Задача:**\n",
    "\n",
    "Оценить результаты А-В тестирования и решить какая маркетинговая стратегия работает наилучшим образом.\n",
    "\n",
    "**Колонки:**\n",
    "\n",
    "*MarketID:* - уник. идентификатор типа рынка.\n",
    "\n",
    "*MarketSize:* -  размер рынка продаж магазина.\n",
    "\n",
    "*LocationID:* - уник. идентификатор геолокации магазина.\n",
    "\n",
    "*AgeOfStore*: - возраст магазина в годах.\n",
    "\n",
    "*Promotion:* - один из трёх тестировавшихся типов рекламной кампании.\n",
    "\n",
    "*week:* - одна из четырех недель проведения маркетинговой кампании.\n",
    "\n",
    "*SalesInThousands:* - обьем продаж (в тысячах) для отдельных значений LocationID, Promotion, и week.\n",
    "\n",
    "\n",
    "\n"
   ]
  },
  {
   "cell_type": "markdown",
   "id": "59e44fa0",
   "metadata": {},
   "source": [
    "# Импортируем необходимые библиотеки:"
   ]
  },
  {
   "cell_type": "code",
   "execution_count": 146,
   "id": "de2df41f",
   "metadata": {},
   "outputs": [],
   "source": [
    "import pandas as pd\n",
    "import numpy as np\n",
    "import seaborn as sns\n",
    "import matplotlib.pyplot as plt\n",
    "\n",
    "from statsmodels.formula.api import ols\n",
    "from statsmodels.stats.anova import anova_lm\n",
    "\n",
    "from scipy.stats import ttest_ind\n",
    "from scipy.stats import shapiro\n",
    "from scipy.stats import mannwhitneyu\n",
    "from scipy.stats import boxcox\n",
    "from scipy.stats import levene\n",
    "from scipy.stats import kruskal\n",
    "from scipy.stats import f_oneway\n",
    "\n",
    "import scikit_posthocs as sp"
   ]
  },
  {
   "cell_type": "markdown",
   "id": "20ef82f3",
   "metadata": {},
   "source": [
    "# Загружаем исходный датасет:"
   ]
  },
  {
   "cell_type": "code",
   "execution_count": 2,
   "id": "75435ca9",
   "metadata": {},
   "outputs": [
    {
     "data": {
      "text/html": [
       "<div>\n",
       "<style scoped>\n",
       "    .dataframe tbody tr th:only-of-type {\n",
       "        vertical-align: middle;\n",
       "    }\n",
       "\n",
       "    .dataframe tbody tr th {\n",
       "        vertical-align: top;\n",
       "    }\n",
       "\n",
       "    .dataframe thead th {\n",
       "        text-align: right;\n",
       "    }\n",
       "</style>\n",
       "<table border=\"1\" class=\"dataframe\">\n",
       "  <thead>\n",
       "    <tr style=\"text-align: right;\">\n",
       "      <th></th>\n",
       "      <th>MarketID</th>\n",
       "      <th>MarketSize</th>\n",
       "      <th>LocationID</th>\n",
       "      <th>AgeOfStore</th>\n",
       "      <th>Promotion</th>\n",
       "      <th>week</th>\n",
       "      <th>SalesInThousands</th>\n",
       "    </tr>\n",
       "  </thead>\n",
       "  <tbody>\n",
       "    <tr>\n",
       "      <th>0</th>\n",
       "      <td>1</td>\n",
       "      <td>Medium</td>\n",
       "      <td>1</td>\n",
       "      <td>4</td>\n",
       "      <td>3</td>\n",
       "      <td>1</td>\n",
       "      <td>33.73</td>\n",
       "    </tr>\n",
       "    <tr>\n",
       "      <th>1</th>\n",
       "      <td>1</td>\n",
       "      <td>Medium</td>\n",
       "      <td>1</td>\n",
       "      <td>4</td>\n",
       "      <td>3</td>\n",
       "      <td>2</td>\n",
       "      <td>35.67</td>\n",
       "    </tr>\n",
       "    <tr>\n",
       "      <th>2</th>\n",
       "      <td>1</td>\n",
       "      <td>Medium</td>\n",
       "      <td>1</td>\n",
       "      <td>4</td>\n",
       "      <td>3</td>\n",
       "      <td>3</td>\n",
       "      <td>29.03</td>\n",
       "    </tr>\n",
       "    <tr>\n",
       "      <th>3</th>\n",
       "      <td>1</td>\n",
       "      <td>Medium</td>\n",
       "      <td>1</td>\n",
       "      <td>4</td>\n",
       "      <td>3</td>\n",
       "      <td>4</td>\n",
       "      <td>39.25</td>\n",
       "    </tr>\n",
       "    <tr>\n",
       "      <th>4</th>\n",
       "      <td>1</td>\n",
       "      <td>Medium</td>\n",
       "      <td>2</td>\n",
       "      <td>5</td>\n",
       "      <td>2</td>\n",
       "      <td>1</td>\n",
       "      <td>27.81</td>\n",
       "    </tr>\n",
       "  </tbody>\n",
       "</table>\n",
       "</div>"
      ],
      "text/plain": [
       "   MarketID MarketSize  LocationID  AgeOfStore  Promotion  week  \\\n",
       "0         1     Medium           1           4          3     1   \n",
       "1         1     Medium           1           4          3     2   \n",
       "2         1     Medium           1           4          3     3   \n",
       "3         1     Medium           1           4          3     4   \n",
       "4         1     Medium           2           5          2     1   \n",
       "\n",
       "   SalesInThousands  \n",
       "0             33.73  \n",
       "1             35.67  \n",
       "2             29.03  \n",
       "3             39.25  \n",
       "4             27.81  "
      ]
     },
     "execution_count": 2,
     "metadata": {},
     "output_type": "execute_result"
    }
   ],
   "source": [
    "df = pd.read_csv(r\"D:\\DATA for Jupiter\\WA_Marketing-Campaign.csv\")\n",
    "\n",
    "df.head()"
   ]
  },
  {
   "cell_type": "markdown",
   "id": "d044e0b1",
   "metadata": {},
   "source": [
    "Каждая уникальная комбинация параметров 'MarketID', 'MarketSize', 'LocationID', 'AgeOfStore', 'Promotion' соответствует уникальному магазину \n",
    "\n",
    "(т.к. можно заметить, что если сгруппировать строки по ним, и посчитаем у каждой группировки число уникальных значений week, то получим 4 и это значение будет единственное для всех комбинаций):"
   ]
  },
  {
   "cell_type": "code",
   "execution_count": 3,
   "id": "1504362d",
   "metadata": {},
   "outputs": [
    {
     "data": {
      "text/html": [
       "<div>\n",
       "<style scoped>\n",
       "    .dataframe tbody tr th:only-of-type {\n",
       "        vertical-align: middle;\n",
       "    }\n",
       "\n",
       "    .dataframe tbody tr th {\n",
       "        vertical-align: top;\n",
       "    }\n",
       "\n",
       "    .dataframe thead th {\n",
       "        text-align: right;\n",
       "    }\n",
       "</style>\n",
       "<table border=\"1\" class=\"dataframe\">\n",
       "  <thead>\n",
       "    <tr style=\"text-align: right;\">\n",
       "      <th></th>\n",
       "      <th>MarketID</th>\n",
       "      <th>MarketSize</th>\n",
       "      <th>LocationID</th>\n",
       "      <th>AgeOfStore</th>\n",
       "      <th>Promotion</th>\n",
       "      <th>week_number_nunique</th>\n",
       "    </tr>\n",
       "  </thead>\n",
       "  <tbody>\n",
       "    <tr>\n",
       "      <th>0</th>\n",
       "      <td>1</td>\n",
       "      <td>Medium</td>\n",
       "      <td>1</td>\n",
       "      <td>4</td>\n",
       "      <td>3</td>\n",
       "      <td>4</td>\n",
       "    </tr>\n",
       "    <tr>\n",
       "      <th>1</th>\n",
       "      <td>1</td>\n",
       "      <td>Medium</td>\n",
       "      <td>2</td>\n",
       "      <td>5</td>\n",
       "      <td>2</td>\n",
       "      <td>4</td>\n",
       "    </tr>\n",
       "    <tr>\n",
       "      <th>2</th>\n",
       "      <td>1</td>\n",
       "      <td>Medium</td>\n",
       "      <td>3</td>\n",
       "      <td>12</td>\n",
       "      <td>1</td>\n",
       "      <td>4</td>\n",
       "    </tr>\n",
       "    <tr>\n",
       "      <th>3</th>\n",
       "      <td>1</td>\n",
       "      <td>Medium</td>\n",
       "      <td>4</td>\n",
       "      <td>1</td>\n",
       "      <td>2</td>\n",
       "      <td>4</td>\n",
       "    </tr>\n",
       "    <tr>\n",
       "      <th>4</th>\n",
       "      <td>1</td>\n",
       "      <td>Medium</td>\n",
       "      <td>5</td>\n",
       "      <td>10</td>\n",
       "      <td>2</td>\n",
       "      <td>4</td>\n",
       "    </tr>\n",
       "  </tbody>\n",
       "</table>\n",
       "</div>"
      ],
      "text/plain": [
       "   MarketID MarketSize  LocationID  AgeOfStore  Promotion  week_number_nunique\n",
       "0         1     Medium           1           4          3                    4\n",
       "1         1     Medium           2           5          2                    4\n",
       "2         1     Medium           3          12          1                    4\n",
       "3         1     Medium           4           1          2                    4\n",
       "4         1     Medium           5          10          2                    4"
      ]
     },
     "execution_count": 3,
     "metadata": {},
     "output_type": "execute_result"
    }
   ],
   "source": [
    "# Число уникальных значений номера недели для всех комбинаций в группировке:\n",
    "\n",
    "df.groupby(['MarketID', 'MarketSize', 'LocationID', 'AgeOfStore', 'Promotion'], as_index=False)\\\n",
    "  .agg({'week':'nunique'})\\\n",
    "  .rename(columns={'week':'week_number_nunique'})\\\n",
    "  .head()"
   ]
  },
  {
   "cell_type": "code",
   "execution_count": 4,
   "id": "939d9912",
   "metadata": {},
   "outputs": [
    {
     "data": {
      "text/plain": [
       "1"
      ]
     },
     "execution_count": 4,
     "metadata": {},
     "output_type": "execute_result"
    }
   ],
   "source": [
    "# Число постоянно для всех комбинаций в группировке:\n",
    "\n",
    "df.groupby(['MarketID', 'MarketSize', 'LocationID', 'AgeOfStore', 'Promotion'])\\\n",
    "  .agg({'week':'nunique'})\\\n",
    "  .rename(columns={'week':'week_number_nunique'})\\\n",
    "  .week_number_nunique\\\n",
    "  .nunique()"
   ]
  },
  {
   "cell_type": "markdown",
   "id": "7c61c5e1",
   "metadata": {},
   "source": [
    "Тогда мы можем для удобства сопоставить каждому магазину - сумму его продаж за первые 4 недели вместо разрозненных продаж по каждой из 4 недель:"
   ]
  },
  {
   "cell_type": "code",
   "execution_count": 5,
   "id": "14f4b948",
   "metadata": {},
   "outputs": [
    {
     "data": {
      "text/html": [
       "<div>\n",
       "<style scoped>\n",
       "    .dataframe tbody tr th:only-of-type {\n",
       "        vertical-align: middle;\n",
       "    }\n",
       "\n",
       "    .dataframe tbody tr th {\n",
       "        vertical-align: top;\n",
       "    }\n",
       "\n",
       "    .dataframe thead th {\n",
       "        text-align: right;\n",
       "    }\n",
       "</style>\n",
       "<table border=\"1\" class=\"dataframe\">\n",
       "  <thead>\n",
       "    <tr style=\"text-align: right;\">\n",
       "      <th></th>\n",
       "      <th>MarketID</th>\n",
       "      <th>MarketSize</th>\n",
       "      <th>LocationID</th>\n",
       "      <th>AgeOfStore</th>\n",
       "      <th>Promotion</th>\n",
       "      <th>total_sells</th>\n",
       "    </tr>\n",
       "  </thead>\n",
       "  <tbody>\n",
       "    <tr>\n",
       "      <th>0</th>\n",
       "      <td>1</td>\n",
       "      <td>Medium</td>\n",
       "      <td>1</td>\n",
       "      <td>4</td>\n",
       "      <td>3</td>\n",
       "      <td>137.68</td>\n",
       "    </tr>\n",
       "    <tr>\n",
       "      <th>1</th>\n",
       "      <td>1</td>\n",
       "      <td>Medium</td>\n",
       "      <td>2</td>\n",
       "      <td>5</td>\n",
       "      <td>2</td>\n",
       "      <td>118.18</td>\n",
       "    </tr>\n",
       "    <tr>\n",
       "      <th>2</th>\n",
       "      <td>1</td>\n",
       "      <td>Medium</td>\n",
       "      <td>3</td>\n",
       "      <td>12</td>\n",
       "      <td>1</td>\n",
       "      <td>162.72</td>\n",
       "    </tr>\n",
       "    <tr>\n",
       "      <th>3</th>\n",
       "      <td>1</td>\n",
       "      <td>Medium</td>\n",
       "      <td>4</td>\n",
       "      <td>1</td>\n",
       "      <td>2</td>\n",
       "      <td>134.83</td>\n",
       "    </tr>\n",
       "    <tr>\n",
       "      <th>4</th>\n",
       "      <td>1</td>\n",
       "      <td>Medium</td>\n",
       "      <td>5</td>\n",
       "      <td>10</td>\n",
       "      <td>2</td>\n",
       "      <td>116.01</td>\n",
       "    </tr>\n",
       "  </tbody>\n",
       "</table>\n",
       "</div>"
      ],
      "text/plain": [
       "   MarketID MarketSize  LocationID  AgeOfStore  Promotion  total_sells\n",
       "0         1     Medium           1           4          3       137.68\n",
       "1         1     Medium           2           5          2       118.18\n",
       "2         1     Medium           3          12          1       162.72\n",
       "3         1     Medium           4           1          2       134.83\n",
       "4         1     Medium           5          10          2       116.01"
      ]
     },
     "execution_count": 5,
     "metadata": {},
     "output_type": "execute_result"
    }
   ],
   "source": [
    "# Получаем данные о 137 магазинах:\n",
    "\n",
    "df = df.groupby(['MarketID', 'MarketSize', 'LocationID', 'AgeOfStore', 'Promotion'], as_index=False)\\\n",
    "       .agg({'SalesInThousands':'sum'})\\\n",
    "       .rename(columns={'SalesInThousands':'total_sells'})\n",
    "\n",
    "df.head()"
   ]
  },
  {
   "cell_type": "markdown",
   "id": "b0eb60b7",
   "metadata": {},
   "source": [
    "# Узнаем описательную статистику датасета:"
   ]
  },
  {
   "cell_type": "code",
   "execution_count": 6,
   "id": "9e76b72a",
   "metadata": {},
   "outputs": [
    {
     "data": {
      "text/plain": [
       "(137, 6)"
      ]
     },
     "execution_count": 6,
     "metadata": {},
     "output_type": "execute_result"
    }
   ],
   "source": [
    "# Узнаем размер датасета:\n",
    "\n",
    "df.shape"
   ]
  },
  {
   "cell_type": "code",
   "execution_count": 7,
   "id": "8fffd325",
   "metadata": {},
   "outputs": [
    {
     "name": "stdout",
     "output_type": "stream",
     "text": [
      "В колонке MarketID имеется 10 уникальных значений.\n",
      "В колонке MarketSize имеется 3 уникальных значений.\n",
      "В колонке LocationID имеется 137 уникальных значений.\n",
      "В колонке AgeOfStore имеется 25 уникальных значений.\n",
      "В колонке Promotion имеется 3 уникальных значений.\n",
      "В колонке total_sells имеется 137 уникальных значений.\n"
     ]
    }
   ],
   "source": [
    "# Узнаем число уникальных значений для каждой колонки:\n",
    "\n",
    "for col in df.columns:\n",
    "    print('В колонке {} имеется {} уникальных значений.'.format(col, df[col].nunique()))"
   ]
  },
  {
   "cell_type": "code",
   "execution_count": 8,
   "id": "8245d950",
   "metadata": {},
   "outputs": [
    {
     "name": "stdout",
     "output_type": "stream",
     "text": [
      "В колонке MarketID уникальные значения: [ 1  2  3  4  5  6  7  8  9 10]\n",
      "В колонке MarketSize уникальные значения: ['Medium' 'Small' 'Large']\n",
      "В колонке Promotion уникальные значения: [3 2 1]\n"
     ]
    }
   ],
   "source": [
    "# Узнаем уникальные значения для категориальных колонок:\n",
    "\n",
    "for col in ['MarketID', 'MarketSize', 'Promotion']:\n",
    "    print('В колонке {} уникальные значения: {}'.format(col, df[col].unique()))"
   ]
  },
  {
   "cell_type": "code",
   "execution_count": 9,
   "id": "a2bf716b",
   "metadata": {
    "scrolled": true
   },
   "outputs": [
    {
     "data": {
      "image/png": "[encoded data removed]",
      "text/plain": [
       "<Figure size 720x360 with 1 Axes>"
      ]
     },
     "metadata": {},
     "output_type": "display_data"
    }
   ],
   "source": [
    "# Узнаем распределение возрастов магазинов:\n",
    "\n",
    "sns.set_theme()\n",
    "sns.displot(data=df, x='AgeOfStore', aspect=2)\n",
    "sns.despine()"
   ]
  },
  {
   "cell_type": "markdown",
   "id": "3e97eb7a",
   "metadata": {},
   "source": [
    "---"
   ]
  },
  {
   "cell_type": "markdown",
   "id": "254db285",
   "metadata": {},
   "source": [
    "# Проведем разведывательный анализ:"
   ]
  },
  {
   "cell_type": "markdown",
   "id": "63db85fc",
   "metadata": {},
   "source": [
    "1. Рассмотрим вначале как отличаются распределения продаж в разрезе только лишь по маркетинговым стратегии (Promotion):"
   ]
  },
  {
   "cell_type": "code",
   "execution_count": 10,
   "id": "59df53a6",
   "metadata": {},
   "outputs": [
    {
     "data": {
      "image/png": "[encoded data removed]",
      "text/plain": [
       "<Figure size 783.175x360 with 1 Axes>"
      ]
     },
     "metadata": {},
     "output_type": "display_data"
    }
   ],
   "source": [
    "# На графиках распределения:\n",
    "\n",
    "sns.set_theme()\n",
    "sns.displot(data=df, x='total_sells', hue='Promotion',aspect=2, kind='kde')\n",
    "sns.despine()"
   ]
  },
  {
   "cell_type": "code",
   "execution_count": 11,
   "id": "a4d81aa7",
   "metadata": {},
   "outputs": [
    {
     "data": {
      "image/png": "[encoded data removed]",
      "text/plain": [
       "<Figure size 432x288 with 1 Axes>"
      ]
     },
     "metadata": {},
     "output_type": "display_data"
    }
   ],
   "source": [
    "# На графиках боксплота:\n",
    "\n",
    "sns.boxplot(x=\"Promotion\", y=\"total_sells\", data=df)\n",
    "sns.despine()"
   ]
  },
  {
   "cell_type": "code",
   "execution_count": 12,
   "id": "b40a09c3",
   "metadata": {},
   "outputs": [
    {
     "data": {
      "text/html": [
       "<div>\n",
       "<style scoped>\n",
       "    .dataframe tbody tr th:only-of-type {\n",
       "        vertical-align: middle;\n",
       "    }\n",
       "\n",
       "    .dataframe tbody tr th {\n",
       "        vertical-align: top;\n",
       "    }\n",
       "\n",
       "    .dataframe thead tr th {\n",
       "        text-align: left;\n",
       "    }\n",
       "\n",
       "    .dataframe thead tr:last-of-type th {\n",
       "        text-align: right;\n",
       "    }\n",
       "</style>\n",
       "<table border=\"1\" class=\"dataframe\">\n",
       "  <thead>\n",
       "    <tr>\n",
       "      <th></th>\n",
       "      <th colspan=\"4\" halign=\"left\">total_sells</th>\n",
       "    </tr>\n",
       "    <tr>\n",
       "      <th></th>\n",
       "      <th>count</th>\n",
       "      <th>mean</th>\n",
       "      <th>median</th>\n",
       "      <th>std</th>\n",
       "    </tr>\n",
       "    <tr>\n",
       "      <th>Promotion</th>\n",
       "      <th></th>\n",
       "      <th></th>\n",
       "      <th></th>\n",
       "      <th></th>\n",
       "    </tr>\n",
       "  </thead>\n",
       "  <tbody>\n",
       "    <tr>\n",
       "      <th>1</th>\n",
       "      <td>43</td>\n",
       "      <td>232.396047</td>\n",
       "      <td>224.30</td>\n",
       "      <td>64.112891</td>\n",
       "    </tr>\n",
       "    <tr>\n",
       "      <th>2</th>\n",
       "      <td>47</td>\n",
       "      <td>189.317660</td>\n",
       "      <td>186.62</td>\n",
       "      <td>57.988389</td>\n",
       "    </tr>\n",
       "    <tr>\n",
       "      <th>3</th>\n",
       "      <td>47</td>\n",
       "      <td>221.457872</td>\n",
       "      <td>199.41</td>\n",
       "      <td>65.535463</td>\n",
       "    </tr>\n",
       "  </tbody>\n",
       "</table>\n",
       "</div>"
      ],
      "text/plain": [
       "          total_sells                               \n",
       "                count        mean  median        std\n",
       "Promotion                                           \n",
       "1                  43  232.396047  224.30  64.112891\n",
       "2                  47  189.317660  186.62  57.988389\n",
       "3                  47  221.457872  199.41  65.535463"
      ]
     },
     "execution_count": 12,
     "metadata": {},
     "output_type": "execute_result"
    }
   ],
   "source": [
    "# В терминах описательных статистик:\n",
    "\n",
    "df.groupby('Promotion')\\\n",
    "  .agg({'total_sells':['count', 'mean','median', np.std]})"
   ]
  },
  {
   "cell_type": "code",
   "execution_count": 13,
   "id": "b613d2d6",
   "metadata": {},
   "outputs": [
    {
     "name": "stdout",
     "output_type": "stream",
     "text": [
      "Promotion 3 имеет p-value: 0.00013465984375216067\n",
      "Promotion 2 имеет p-value: 2.3925502318888903e-05\n",
      "Promotion 1 имеет p-value: 0.00015705579426139593\n"
     ]
    }
   ],
   "source": [
    "# Проводим тест на нормальность выборок:\n",
    "\n",
    "for promo_number in df.Promotion.unique():\n",
    "    print('Promotion {} имеет p-value: {}'.format(promo_number, shapiro(df[df.Promotion==promo_number].total_sells).pvalue))"
   ]
  },
  {
   "cell_type": "code",
   "execution_count": 14,
   "id": "34ed630a",
   "metadata": {},
   "outputs": [],
   "source": [
    "\"\"\"\n",
    "Видим, что нулевая гипотеза о нормальности отклоняется для каждой выборки, \n",
    "тогда пробуем нормализовать их методом Бокса-Кокса.\n",
    "Перебираем все возможные значения параметра lmbda и записываем для каждого - pvalue теста на нормальность:\n",
    "\n",
    "\"\"\"\n",
    "\n",
    "# Для Promotion = 1:\n",
    "pvalues_1 = []\n",
    "for i in range(-100,100):\n",
    "    lmbda = i/100\n",
    "    pvalues_1.append(shapiro(boxcox(df[df.Promotion==1].total_sells, \n",
    "                                    lmbda=lmbda)).pvalue)\n",
    "    \n",
    "# Для Promotion = 2:\n",
    "pvalues_2 = []\n",
    "for i in range(-100,100):\n",
    "    lmbda = i/100\n",
    "    pvalues_2.append(shapiro(boxcox(df[df.Promotion==2].total_sells, \n",
    "                                    lmbda=lmbda)).pvalue)\n",
    "\n",
    "# Для Promotion = 3:\n",
    "pvalues_3 = []\n",
    "for i in range(-100,100):\n",
    "    lmbda = i/100\n",
    "    pvalues_3.append(shapiro(boxcox(df[df.Promotion==3].total_sells, \n",
    "                                    lmbda=lmbda)).pvalue)"
   ]
  },
  {
   "cell_type": "code",
   "execution_count": 65,
   "id": "026f34b3",
   "metadata": {
    "scrolled": true
   },
   "outputs": [
    {
     "data": {
      "image/png": "[encoded data removed]",
      "text/plain": [
       "<Figure size 432x288 with 1 Axes>"
      ]
     },
     "metadata": {},
     "output_type": "display_data"
    }
   ],
   "source": [
    "\"\"\"\n",
    "Видим, что ни при каких значениях параметра lmbda, выборки не могут быть достоверно нормализованы \n",
    "(есть лишь небольшое превышение порога pvalue=0.05):\n",
    "\n",
    "\"\"\"\n",
    "\n",
    "plt.plot([i/100 for i in range(-100,100)], pvalues_1)\n",
    "plt.plot([i/100 for i in range(-100,100)], pvalues_2)\n",
    "plt.plot([i/100 for i in range(-100,100)], pvalues_3)\n",
    "\n",
    "plt.title('Первая попытка нормализации выборок')\n",
    "plt.legend(['Promotion = 1', 'Promotion = 2', 'Promotion = 3'])\n",
    "plt.xlabel('lmbda')\n",
    "plt.ylabel('p-value')\n",
    "\n",
    "sns.despine()"
   ]
  },
  {
   "cell_type": "code",
   "execution_count": 66,
   "id": "0e87b54d",
   "metadata": {},
   "outputs": [],
   "source": [
    "\"\"\"\n",
    "Попробуем повторить то же самое, исключив из выборок 1 максимальное и 1 минимальное значение (около 2% с каждой стороны)\n",
    "Таким образом попробуем избавиться от влияния возможных выбросов:\n",
    "\n",
    "\"\"\"\n",
    "\n",
    "# Для Promotion = 1:\n",
    "pvalues_1 = []\n",
    "for i in range(-100,100):\n",
    "    lmbda = i/100\n",
    "    pvalues_1.append(shapiro(boxcox(df[df.Promotion==1].total_sells[1:-1:], \n",
    "                                    lmbda=lmbda)).pvalue)\n",
    "    \n",
    "# Для Promotion = 2:\n",
    "pvalues_2 = []\n",
    "for i in range(-100,100):\n",
    "    lmbda = i/100\n",
    "    pvalues_2.append(shapiro(boxcox(df[df.Promotion==2].total_sells[1:-1:],\n",
    "                                    lmbda=lmbda)).pvalue)\n",
    "\n",
    "# Для Promotion = 3:\n",
    "pvalues_3 = []\n",
    "for i in range(-100,100):\n",
    "    lmbda = i/100\n",
    "    pvalues_3.append(shapiro(boxcox(df[df.Promotion==3].total_sells[1:-1:], \n",
    "                                    lmbda=lmbda)).pvalue)"
   ]
  },
  {
   "cell_type": "code",
   "execution_count": 68,
   "id": "348c8741",
   "metadata": {},
   "outputs": [
    {
     "data": {
      "image/png": "[encoded data removed]",
      "text/plain": [
       "<Figure size 432x288 with 1 Axes>"
      ]
     },
     "metadata": {},
     "output_type": "display_data"
    }
   ],
   "source": [
    "\"\"\"\n",
    "Видим, что ни при каких значениях параметра lmbda, выборки все равно не могут быть достоверно нормализованы:\n",
    "(cнова есть лишь небольшое превышение порога pvalue=0.05):\n",
    "\n",
    "\"\"\"\n",
    "\n",
    "plt.plot([i/100 for i in range(-100,100)], pvalues_1)\n",
    "plt.plot([i/100 for i in range(-100,100)], pvalues_2)\n",
    "plt.plot([i/100 for i in range(-100,100)], pvalues_3)\n",
    "\n",
    "plt.title('Попытка нормализации выборок с исключением выбросов')\n",
    "plt.legend(['Promotion = 1', 'Promotion = 2', 'Promotion = 3'])\n",
    "plt.xlabel('lmbda')\n",
    "plt.ylabel('p-value')\n",
    "\n",
    "sns.despine()"
   ]
  },
  {
   "cell_type": "code",
   "execution_count": 18,
   "id": "e05df2f6",
   "metadata": {},
   "outputs": [
    {
     "data": {
      "text/plain": [
       "LeveneResult(statistic=0.4681608444016786, pvalue=0.6271730417231256)"
      ]
     },
     "execution_count": 18,
     "metadata": {},
     "output_type": "execute_result"
    }
   ],
   "source": [
    "# Проводим тест на гомогенность выборок:\n",
    "\n",
    "samples = [df[df.Promotion==i].total_sells for i in df.Promotion.unique()]\n",
    "levene(*samples)"
   ]
  },
  {
   "cell_type": "markdown",
   "id": "d311df7f",
   "metadata": {},
   "source": [
    "***Заключаем, что выборки не нормальны и гомогенны.***"
   ]
  },
  {
   "cell_type": "code",
   "execution_count": 19,
   "id": "85ce14a3",
   "metadata": {},
   "outputs": [
    {
     "data": {
      "text/plain": [
       "KruskalResult(statistic=17.327374531871044, pvalue=0.00017274617006801915)"
      ]
     },
     "execution_count": 19,
     "metadata": {},
     "output_type": "execute_result"
    }
   ],
   "source": [
    "# Проводим тест Краскала-Уоллиса (непараметрический аналог ANOVA) :\n",
    "\n",
    "kruskal(*samples)"
   ]
  },
  {
   "cell_type": "markdown",
   "id": "674819bb",
   "metadata": {},
   "source": [
    "***Заключаем, что есть хотя бы одна выборка статистически значимо отличающаяся от остальных, т.к. получившийся pvalue<0.05.***"
   ]
  },
  {
   "cell_type": "markdown",
   "id": "b03525cd",
   "metadata": {},
   "source": [
    "---"
   ]
  },
  {
   "cell_type": "markdown",
   "id": "b5f81dc4",
   "metadata": {},
   "source": [
    "2. Рассмотрим как отличаются распределения продаж в разрезе не только по маркетинговым стратегиям (Promotion), но и по другим факторам:"
   ]
  },
  {
   "cell_type": "markdown",
   "id": "26ca16eb",
   "metadata": {},
   "source": [
    "Сравнивать продажи в разрезе по слишком большому набору факторов тоже нельзя, т.к. в таком случае размеры получившихся выборок продаж за первые 4 недели могут сильно снизится до нерепрезентативных количеств, и тогда, даже если стат. значимое различие есть или нет, мы можем просто не смочь их обнаружить или сделаем ошибочный вывод. \n",
    "\n",
    "Поэтому, прежде чем далее сравнивать продажи в разрезах по нескольким факторам одновременно, узнаем какие комбинации (взаимодействиям) этих факторов вообще целесообразно рассматривать - в каких из них образовавшиеся размеры выборок будут репрезентативны."
   ]
  },
  {
   "cell_type": "markdown",
   "id": "be8ed841",
   "metadata": {},
   "source": [
    "Рассмотрим вначале взаимодействия из 2 факторов, один из которых - тип маркетинговой стратегии (Promotion), т.к. зависимость именно от нее нам интересна по заданию:"
   ]
  },
  {
   "cell_type": "code",
   "execution_count": 20,
   "id": "cf505db3",
   "metadata": {},
   "outputs": [],
   "source": [
    "# Факторы - это названия столбцов (но с исключенным столбцом продаж, т.к. это зависимая переменная):\n",
    "\n",
    "columns_without_sells = [col for col in df.columns if col!= 'total_sells']"
   ]
  },
  {
   "cell_type": "code",
   "execution_count": 21,
   "id": "512f4339",
   "metadata": {},
   "outputs": [],
   "source": [
    "# Создаем список взаимодействтий:\n",
    "\n",
    "factor_combinations = []\n",
    "\n",
    "\n",
    "# Комбинируем каждый столбец с каждым столбцом попарно:\n",
    "\n",
    "for col1 in columns_without_sells:\n",
    "    for col2 in columns_without_sells:\n",
    "        \n",
    "        if (col1!=col2 and col1=='Promotion') or (col1!=col2 and col2=='Promotion'):   # Взаимодействие должно включать неповторяющиеся столбцы и один из них должен быть Promotion\n",
    "\n",
    "            combination = set([col1,col2])   # Пару записываем в виде множества, чтобы далее исключить повторы в списке взаимодействий\n",
    "            \n",
    "            if combination not in factor_combinations:   # Проверяем есть ли уже такая пара в списке взаимодействий (независимо от порядка внутри пары)\n",
    "                factor_combinations.append(combination)  # Если пары нет - то добавляем в список\n",
    "\n",
    "factor_combinations = list(map(lambda x: list(x), factor_combinations))   # Превращаем все пары из множества в список, чтобы далее подать в groupby"
   ]
  },
  {
   "cell_type": "code",
   "execution_count": 22,
   "id": "ece60d4d",
   "metadata": {},
   "outputs": [
    {
     "data": {
      "text/plain": [
       "[['Promotion', 'MarketID'],\n",
       " ['Promotion', 'MarketSize'],\n",
       " ['Promotion', 'LocationID'],\n",
       " ['Promotion', 'AgeOfStore']]"
      ]
     },
     "execution_count": 22,
     "metadata": {},
     "output_type": "execute_result"
    }
   ],
   "source": [
    "# Получаем 4 возможных взаимодействий двух факторов:\n",
    "\n",
    "factor_combinations"
   ]
  },
  {
   "cell_type": "code",
   "execution_count": 23,
   "id": "f8bce08e",
   "metadata": {},
   "outputs": [
    {
     "data": {
      "text/html": [
       "<div>\n",
       "<style scoped>\n",
       "    .dataframe tbody tr th:only-of-type {\n",
       "        vertical-align: middle;\n",
       "    }\n",
       "\n",
       "    .dataframe tbody tr th {\n",
       "        vertical-align: top;\n",
       "    }\n",
       "\n",
       "    .dataframe thead th {\n",
       "        text-align: right;\n",
       "    }\n",
       "</style>\n",
       "<table border=\"1\" class=\"dataframe\">\n",
       "  <thead>\n",
       "    <tr style=\"text-align: right;\">\n",
       "      <th></th>\n",
       "      <th></th>\n",
       "      <th>sample_size</th>\n",
       "    </tr>\n",
       "    <tr>\n",
       "      <th>Promotion</th>\n",
       "      <th>MarketID</th>\n",
       "      <th></th>\n",
       "    </tr>\n",
       "  </thead>\n",
       "  <tbody>\n",
       "    <tr>\n",
       "      <th>1</th>\n",
       "      <th>2</th>\n",
       "      <td>1</td>\n",
       "    </tr>\n",
       "    <tr>\n",
       "      <th>3</th>\n",
       "      <th>4</th>\n",
       "      <td>1</td>\n",
       "    </tr>\n",
       "    <tr>\n",
       "      <th>1</th>\n",
       "      <th>5</th>\n",
       "      <td>2</td>\n",
       "    </tr>\n",
       "    <tr>\n",
       "      <th rowspan=\"2\" valign=\"top\">2</th>\n",
       "      <th>9</th>\n",
       "      <td>2</td>\n",
       "    </tr>\n",
       "    <tr>\n",
       "      <th>8</th>\n",
       "      <td>2</td>\n",
       "    </tr>\n",
       "  </tbody>\n",
       "</table>\n",
       "</div>"
      ],
      "text/plain": [
       "                    sample_size\n",
       "Promotion MarketID             \n",
       "1         2                   1\n",
       "3         4                   1\n",
       "1         5                   2\n",
       "2         9                   2\n",
       "          8                   2"
      ]
     },
     "execution_count": 23,
     "metadata": {},
     "output_type": "execute_result"
    }
   ],
   "source": [
    "# Смотрим размеры образующихся выборок для взаимодействия ['Promotion', 'MarketID']:\n",
    "\n",
    "df.groupby(['Promotion', 'MarketID'])\\\n",
    "  .agg({'total_sells':'count'})\\\n",
    "  .sort_values('total_sells')\\\n",
    "  .rename(columns={'total_sells':'sample_size'})\\\n",
    "  .head()"
   ]
  },
  {
   "cell_type": "code",
   "execution_count": 24,
   "id": "ade7312b",
   "metadata": {},
   "outputs": [
    {
     "data": {
      "text/html": [
       "<div>\n",
       "<style scoped>\n",
       "    .dataframe tbody tr th:only-of-type {\n",
       "        vertical-align: middle;\n",
       "    }\n",
       "\n",
       "    .dataframe tbody tr th {\n",
       "        vertical-align: top;\n",
       "    }\n",
       "\n",
       "    .dataframe thead th {\n",
       "        text-align: right;\n",
       "    }\n",
       "</style>\n",
       "<table border=\"1\" class=\"dataframe\">\n",
       "  <thead>\n",
       "    <tr style=\"text-align: right;\">\n",
       "      <th></th>\n",
       "      <th></th>\n",
       "      <th>sample_size</th>\n",
       "    </tr>\n",
       "    <tr>\n",
       "      <th>MarketSize</th>\n",
       "      <th>Promotion</th>\n",
       "      <th></th>\n",
       "    </tr>\n",
       "  </thead>\n",
       "  <tbody>\n",
       "    <tr>\n",
       "      <th rowspan=\"3\" valign=\"top\">Small</th>\n",
       "      <th>2</th>\n",
       "      <td>4</td>\n",
       "    </tr>\n",
       "    <tr>\n",
       "      <th>1</th>\n",
       "      <td>5</td>\n",
       "    </tr>\n",
       "    <tr>\n",
       "      <th>3</th>\n",
       "      <td>6</td>\n",
       "    </tr>\n",
       "    <tr>\n",
       "      <th rowspan=\"2\" valign=\"top\">Large</th>\n",
       "      <th>3</th>\n",
       "      <td>12</td>\n",
       "    </tr>\n",
       "    <tr>\n",
       "      <th>1</th>\n",
       "      <td>14</td>\n",
       "    </tr>\n",
       "  </tbody>\n",
       "</table>\n",
       "</div>"
      ],
      "text/plain": [
       "                      sample_size\n",
       "MarketSize Promotion             \n",
       "Small      2                    4\n",
       "           1                    5\n",
       "           3                    6\n",
       "Large      3                   12\n",
       "           1                   14"
      ]
     },
     "execution_count": 24,
     "metadata": {},
     "output_type": "execute_result"
    }
   ],
   "source": [
    "# Смотрим размеры образующихся выборок для взаимодействия ['Promotion', 'MarketSize']:\n",
    "\n",
    "df.groupby(['MarketSize', 'Promotion'])\\\n",
    "  .agg({'total_sells':'count'})\\\n",
    "  .sort_values('total_sells')\\\n",
    "  .rename(columns={'total_sells':'sample_size'})\\\n",
    "  .head()"
   ]
  },
  {
   "cell_type": "code",
   "execution_count": 25,
   "id": "bc7aa66b",
   "metadata": {},
   "outputs": [
    {
     "data": {
      "text/html": [
       "<div>\n",
       "<style scoped>\n",
       "    .dataframe tbody tr th:only-of-type {\n",
       "        vertical-align: middle;\n",
       "    }\n",
       "\n",
       "    .dataframe tbody tr th {\n",
       "        vertical-align: top;\n",
       "    }\n",
       "\n",
       "    .dataframe thead th {\n",
       "        text-align: right;\n",
       "    }\n",
       "</style>\n",
       "<table border=\"1\" class=\"dataframe\">\n",
       "  <thead>\n",
       "    <tr style=\"text-align: right;\">\n",
       "      <th></th>\n",
       "      <th></th>\n",
       "      <th>sample_size</th>\n",
       "    </tr>\n",
       "    <tr>\n",
       "      <th>AgeOfStore</th>\n",
       "      <th>Promotion</th>\n",
       "      <th></th>\n",
       "    </tr>\n",
       "  </thead>\n",
       "  <tbody>\n",
       "    <tr>\n",
       "      <th>28</th>\n",
       "      <th>2</th>\n",
       "      <td>1</td>\n",
       "    </tr>\n",
       "    <tr>\n",
       "      <th>12</th>\n",
       "      <th>2</th>\n",
       "      <td>1</td>\n",
       "    </tr>\n",
       "    <tr>\n",
       "      <th>6</th>\n",
       "      <th>2</th>\n",
       "      <td>1</td>\n",
       "    </tr>\n",
       "    <tr>\n",
       "      <th>22</th>\n",
       "      <th>1</th>\n",
       "      <td>1</td>\n",
       "    </tr>\n",
       "    <tr>\n",
       "      <th>11</th>\n",
       "      <th>1</th>\n",
       "      <td>1</td>\n",
       "    </tr>\n",
       "  </tbody>\n",
       "</table>\n",
       "</div>"
      ],
      "text/plain": [
       "                      sample_size\n",
       "AgeOfStore Promotion             \n",
       "28         2                    1\n",
       "12         2                    1\n",
       "6          2                    1\n",
       "22         1                    1\n",
       "11         1                    1"
      ]
     },
     "execution_count": 25,
     "metadata": {},
     "output_type": "execute_result"
    }
   ],
   "source": [
    "# Смотрим размеры образующихся выборок для взаимодействия ['Promotion', 'AgeOfStore']:\n",
    "\n",
    "df.groupby(['AgeOfStore', 'Promotion'])\\\n",
    "  .agg({'total_sells':'count'})\\\n",
    "  .sort_values('total_sells')\\\n",
    "  .rename(columns={'total_sells':'sample_size'})\\\n",
    "  .head()"
   ]
  },
  {
   "cell_type": "code",
   "execution_count": 26,
   "id": "d228149f",
   "metadata": {},
   "outputs": [
    {
     "data": {
      "text/html": [
       "<div>\n",
       "<style scoped>\n",
       "    .dataframe tbody tr th:only-of-type {\n",
       "        vertical-align: middle;\n",
       "    }\n",
       "\n",
       "    .dataframe tbody tr th {\n",
       "        vertical-align: top;\n",
       "    }\n",
       "\n",
       "    .dataframe thead th {\n",
       "        text-align: right;\n",
       "    }\n",
       "</style>\n",
       "<table border=\"1\" class=\"dataframe\">\n",
       "  <thead>\n",
       "    <tr style=\"text-align: right;\">\n",
       "      <th></th>\n",
       "      <th></th>\n",
       "      <th>sample_size</th>\n",
       "    </tr>\n",
       "    <tr>\n",
       "      <th>LocationID</th>\n",
       "      <th>Promotion</th>\n",
       "      <th></th>\n",
       "    </tr>\n",
       "  </thead>\n",
       "  <tbody>\n",
       "    <tr>\n",
       "      <th>1</th>\n",
       "      <th>3</th>\n",
       "      <td>1</td>\n",
       "    </tr>\n",
       "    <tr>\n",
       "      <th>705</th>\n",
       "      <th>3</th>\n",
       "      <td>1</td>\n",
       "    </tr>\n",
       "    <tr>\n",
       "      <th>704</th>\n",
       "      <th>1</th>\n",
       "      <td>1</td>\n",
       "    </tr>\n",
       "    <tr>\n",
       "      <th>703</th>\n",
       "      <th>1</th>\n",
       "      <td>1</td>\n",
       "    </tr>\n",
       "    <tr>\n",
       "      <th>702</th>\n",
       "      <th>1</th>\n",
       "      <td>1</td>\n",
       "    </tr>\n",
       "  </tbody>\n",
       "</table>\n",
       "</div>"
      ],
      "text/plain": [
       "                      sample_size\n",
       "LocationID Promotion             \n",
       "1          3                    1\n",
       "705        3                    1\n",
       "704        1                    1\n",
       "703        1                    1\n",
       "702        1                    1"
      ]
     },
     "execution_count": 26,
     "metadata": {},
     "output_type": "execute_result"
    }
   ],
   "source": [
    "# Смотрим размеры образующихся выборок для взаимодействия ['Promotion','LocationID']:\n",
    "\n",
    "df.groupby(['LocationID', 'Promotion'])\\\n",
    "  .agg({'total_sells':'count'})\\\n",
    "  .sort_values('total_sells')\\\n",
    "  .rename(columns={'total_sells':'sample_size'})\\\n",
    "  .head()"
   ]
  },
  {
   "cell_type": "markdown",
   "id": "2a16ae1f",
   "metadata": {},
   "source": [
    "Видим, что для всех комбинаций, кроме одной, минимальный размер образовавшихся выборок продаж = 1. Это слишком мало - такие выборки нерепрезентативны. \n",
    "\n",
    "Поэтому для дальнейшего анализа мы можем отобрать только лишь комбинацию факторов: 'Promotion' и  'MarketSize', где минимальный размер выборки = 4."
   ]
  },
  {
   "cell_type": "markdown",
   "id": "e5445b63",
   "metadata": {},
   "source": [
    "Можем также попробовать применить биннинг значений возраста магазинов, т.к. эти данные непрерывные (continious). Разделим их на 3 квантиля и проверим минимальный размер образовавшихся выборок в комбинации с фактором 'Promotion':"
   ]
  },
  {
   "cell_type": "code",
   "execution_count": 69,
   "id": "33a2b3d3",
   "metadata": {},
   "outputs": [
    {
     "data": {
      "text/html": [
       "<div>\n",
       "<style scoped>\n",
       "    .dataframe tbody tr th:only-of-type {\n",
       "        vertical-align: middle;\n",
       "    }\n",
       "\n",
       "    .dataframe tbody tr th {\n",
       "        vertical-align: top;\n",
       "    }\n",
       "\n",
       "    .dataframe thead th {\n",
       "        text-align: right;\n",
       "    }\n",
       "</style>\n",
       "<table border=\"1\" class=\"dataframe\">\n",
       "  <thead>\n",
       "    <tr style=\"text-align: right;\">\n",
       "      <th></th>\n",
       "      <th>MarketID</th>\n",
       "      <th>MarketSize</th>\n",
       "      <th>LocationID</th>\n",
       "      <th>AgeOfStore</th>\n",
       "      <th>Promotion</th>\n",
       "      <th>total_sells</th>\n",
       "      <th>AgeOfStore_cat</th>\n",
       "    </tr>\n",
       "  </thead>\n",
       "  <tbody>\n",
       "    <tr>\n",
       "      <th>0</th>\n",
       "      <td>1</td>\n",
       "      <td>Medium</td>\n",
       "      <td>1</td>\n",
       "      <td>4</td>\n",
       "      <td>3</td>\n",
       "      <td>137.68</td>\n",
       "      <td>young</td>\n",
       "    </tr>\n",
       "    <tr>\n",
       "      <th>1</th>\n",
       "      <td>1</td>\n",
       "      <td>Medium</td>\n",
       "      <td>2</td>\n",
       "      <td>5</td>\n",
       "      <td>2</td>\n",
       "      <td>118.18</td>\n",
       "      <td>middle</td>\n",
       "    </tr>\n",
       "    <tr>\n",
       "      <th>2</th>\n",
       "      <td>1</td>\n",
       "      <td>Medium</td>\n",
       "      <td>3</td>\n",
       "      <td>12</td>\n",
       "      <td>1</td>\n",
       "      <td>162.72</td>\n",
       "      <td>old</td>\n",
       "    </tr>\n",
       "    <tr>\n",
       "      <th>3</th>\n",
       "      <td>1</td>\n",
       "      <td>Medium</td>\n",
       "      <td>4</td>\n",
       "      <td>1</td>\n",
       "      <td>2</td>\n",
       "      <td>134.83</td>\n",
       "      <td>young</td>\n",
       "    </tr>\n",
       "    <tr>\n",
       "      <th>4</th>\n",
       "      <td>1</td>\n",
       "      <td>Medium</td>\n",
       "      <td>5</td>\n",
       "      <td>10</td>\n",
       "      <td>2</td>\n",
       "      <td>116.01</td>\n",
       "      <td>old</td>\n",
       "    </tr>\n",
       "  </tbody>\n",
       "</table>\n",
       "</div>"
      ],
      "text/plain": [
       "   MarketID MarketSize  LocationID  AgeOfStore  Promotion  total_sells  \\\n",
       "0         1     Medium           1           4          3       137.68   \n",
       "1         1     Medium           2           5          2       118.18   \n",
       "2         1     Medium           3          12          1       162.72   \n",
       "3         1     Medium           4           1          2       134.83   \n",
       "4         1     Medium           5          10          2       116.01   \n",
       "\n",
       "  AgeOfStore_cat  \n",
       "0          young  \n",
       "1         middle  \n",
       "2            old  \n",
       "3          young  \n",
       "4            old  "
      ]
     },
     "execution_count": 69,
     "metadata": {},
     "output_type": "execute_result"
    }
   ],
   "source": [
    "# Делим возраста магазинов на 3 квантиля:\n",
    "quantiles = df.AgeOfStore.quantile([0, 0.33333, 0.66666, 1]).values\n",
    "quantiles[-1] = quantiles[-1]+0.1\n",
    "\n",
    "\n",
    "# Назначаем названия получившихся категорий:\n",
    "df['AgeOfStore_cat'] = pd.cut(df.AgeOfStore, quantiles, right=False, labels=['young', 'middle', 'old'])\n",
    "\n",
    "df.head()"
   ]
  },
  {
   "cell_type": "code",
   "execution_count": 70,
   "id": "6ee610a4",
   "metadata": {},
   "outputs": [
    {
     "data": {
      "text/plain": [
       "middle    47\n",
       "old       46\n",
       "young     44\n",
       "Name: AgeOfStore_cat, dtype: int64"
      ]
     },
     "execution_count": 70,
     "metadata": {},
     "output_type": "execute_result"
    }
   ],
   "source": [
    "# Количество магазинов в каждой категории равно:\n",
    "\n",
    "df.AgeOfStore_cat.value_counts()"
   ]
  },
  {
   "cell_type": "code",
   "execution_count": 71,
   "id": "58c18f1b",
   "metadata": {},
   "outputs": [
    {
     "name": "stdout",
     "output_type": "stream",
     "text": [
      "Непропущенных строк столбца AgeOfStore_cat: 137\n",
      "Было строк в изначальном датасете: 137\n"
     ]
    }
   ],
   "source": [
    "# Нет потерянных данных:\n",
    "\n",
    "print('Непропущенных строк столбца AgeOfStore_cat: {}'.format(df.AgeOfStore_cat.dropna().shape[0]))\n",
    "print('Было строк в изначальном датасете: {}'.format(df.shape[0]))"
   ]
  },
  {
   "cell_type": "code",
   "execution_count": 72,
   "id": "5baef097",
   "metadata": {},
   "outputs": [
    {
     "data": {
      "text/html": [
       "<div>\n",
       "<style scoped>\n",
       "    .dataframe tbody tr th:only-of-type {\n",
       "        vertical-align: middle;\n",
       "    }\n",
       "\n",
       "    .dataframe tbody tr th {\n",
       "        vertical-align: top;\n",
       "    }\n",
       "\n",
       "    .dataframe thead th {\n",
       "        text-align: right;\n",
       "    }\n",
       "</style>\n",
       "<table border=\"1\" class=\"dataframe\">\n",
       "  <thead>\n",
       "    <tr style=\"text-align: right;\">\n",
       "      <th></th>\n",
       "      <th></th>\n",
       "      <th>sample_size</th>\n",
       "    </tr>\n",
       "    <tr>\n",
       "      <th>AgeOfStore_cat</th>\n",
       "      <th>Promotion</th>\n",
       "      <th></th>\n",
       "    </tr>\n",
       "  </thead>\n",
       "  <tbody>\n",
       "    <tr>\n",
       "      <th>young</th>\n",
       "      <th>3</th>\n",
       "      <td>11</td>\n",
       "    </tr>\n",
       "    <tr>\n",
       "      <th>middle</th>\n",
       "      <th>1</th>\n",
       "      <td>13</td>\n",
       "    </tr>\n",
       "    <tr>\n",
       "      <th>old</th>\n",
       "      <th>1</th>\n",
       "      <td>14</td>\n",
       "    </tr>\n",
       "    <tr>\n",
       "      <th>middle</th>\n",
       "      <th>2</th>\n",
       "      <td>15</td>\n",
       "    </tr>\n",
       "    <tr>\n",
       "      <th>old</th>\n",
       "      <th>2</th>\n",
       "      <td>15</td>\n",
       "    </tr>\n",
       "  </tbody>\n",
       "</table>\n",
       "</div>"
      ],
      "text/plain": [
       "                          sample_size\n",
       "AgeOfStore_cat Promotion             \n",
       "young          3                   11\n",
       "middle         1                   13\n",
       "old            1                   14\n",
       "middle         2                   15\n",
       "old            2                   15"
      ]
     },
     "execution_count": 72,
     "metadata": {},
     "output_type": "execute_result"
    }
   ],
   "source": [
    "# Узнаём какой минимальный размер образовавшихся выборок в комбинации с фактором 'Promotion':\n",
    "\n",
    "df.groupby(['AgeOfStore_cat', 'Promotion'])\\\n",
    "  .agg({'total_sells':'count'})\\\n",
    "  .sort_values('total_sells')\\\n",
    "  .rename(columns={'total_sells':'sample_size'})\\\n",
    "  .head()"
   ]
  },
  {
   "cell_type": "markdown",
   "id": "5ccf4c5a",
   "metadata": {},
   "source": [
    "**Здесь также относительно приемлемые размеры выборок. Таким образом для дальнейшего рассмотрения отбираем взаимодействия:**\n",
    "\n",
    "1. Promotion и AgeOfStore_cat\n",
    "2. Promotion и MarketSize"
   ]
  },
  {
   "cell_type": "markdown",
   "id": "51090f6b",
   "metadata": {},
   "source": [
    "---"
   ]
  },
  {
   "cell_type": "markdown",
   "id": "41894805",
   "metadata": {},
   "source": [
    "3. Определим как отличаются распределения продаж у данных взаимодействий:"
   ]
  },
  {
   "cell_type": "markdown",
   "id": "96d5dd19",
   "metadata": {},
   "source": [
    "***3.1 Для взаимодействия Promotion и AgeOfStore_cat:***"
   ]
  },
  {
   "cell_type": "code",
   "execution_count": 31,
   "id": "4d7f327f",
   "metadata": {},
   "outputs": [
    {
     "data": {
      "image/png": "[encoded data removed]",
      "text/plain": [
       "<Figure size 1143.17x360 with 3 Axes>"
      ]
     },
     "metadata": {},
     "output_type": "display_data"
    }
   ],
   "source": [
    "# На графиках распределения:\n",
    "\n",
    "sns.set_theme()\n",
    "sns.displot(data=df, x='total_sells', hue='Promotion', col='AgeOfStore_cat', kind='kde', fill=True)\n",
    "sns.despine()"
   ]
  },
  {
   "cell_type": "code",
   "execution_count": 32,
   "id": "6e1e3258",
   "metadata": {},
   "outputs": [
    {
     "data": {
      "image/png": "[encoded data removed]",
      "text/plain": [
       "<Figure size 1080x360 with 3 Axes>"
      ]
     },
     "metadata": {},
     "output_type": "display_data"
    }
   ],
   "source": [
    "# На графиках боксплота:\n",
    "\n",
    "sns.set_theme()\n",
    "sns.catplot(data=df, x='Promotion', y='total_sells', col='AgeOfStore_cat', kind='box')\n",
    "sns.despine()"
   ]
  },
  {
   "cell_type": "code",
   "execution_count": 33,
   "id": "cc5d812b",
   "metadata": {},
   "outputs": [
    {
     "data": {
      "text/html": [
       "<div>\n",
       "<style scoped>\n",
       "    .dataframe tbody tr th:only-of-type {\n",
       "        vertical-align: middle;\n",
       "    }\n",
       "\n",
       "    .dataframe tbody tr th {\n",
       "        vertical-align: top;\n",
       "    }\n",
       "\n",
       "    .dataframe thead tr th {\n",
       "        text-align: left;\n",
       "    }\n",
       "\n",
       "    .dataframe thead tr:last-of-type th {\n",
       "        text-align: right;\n",
       "    }\n",
       "</style>\n",
       "<table border=\"1\" class=\"dataframe\">\n",
       "  <thead>\n",
       "    <tr>\n",
       "      <th></th>\n",
       "      <th></th>\n",
       "      <th colspan=\"4\" halign=\"left\">total_sells</th>\n",
       "    </tr>\n",
       "    <tr>\n",
       "      <th></th>\n",
       "      <th></th>\n",
       "      <th>count</th>\n",
       "      <th>mean</th>\n",
       "      <th>median</th>\n",
       "      <th>std</th>\n",
       "    </tr>\n",
       "    <tr>\n",
       "      <th>AgeOfStore_cat</th>\n",
       "      <th>Promotion</th>\n",
       "      <th></th>\n",
       "      <th></th>\n",
       "      <th></th>\n",
       "      <th></th>\n",
       "    </tr>\n",
       "  </thead>\n",
       "  <tbody>\n",
       "    <tr>\n",
       "      <th rowspan=\"3\" valign=\"top\">young</th>\n",
       "      <th>1</th>\n",
       "      <td>16</td>\n",
       "      <td>248.713125</td>\n",
       "      <td>236.215</td>\n",
       "      <td>65.933102</td>\n",
       "    </tr>\n",
       "    <tr>\n",
       "      <th>2</th>\n",
       "      <td>17</td>\n",
       "      <td>194.612941</td>\n",
       "      <td>186.620</td>\n",
       "      <td>52.878715</td>\n",
       "    </tr>\n",
       "    <tr>\n",
       "      <th>3</th>\n",
       "      <td>11</td>\n",
       "      <td>258.868182</td>\n",
       "      <td>229.300</td>\n",
       "      <td>81.427624</td>\n",
       "    </tr>\n",
       "    <tr>\n",
       "      <th rowspan=\"3\" valign=\"top\">middle</th>\n",
       "      <th>1</th>\n",
       "      <td>13</td>\n",
       "      <td>230.825385</td>\n",
       "      <td>223.900</td>\n",
       "      <td>72.830967</td>\n",
       "    </tr>\n",
       "    <tr>\n",
       "      <th>2</th>\n",
       "      <td>15</td>\n",
       "      <td>183.544000</td>\n",
       "      <td>186.400</td>\n",
       "      <td>62.171389</td>\n",
       "    </tr>\n",
       "    <tr>\n",
       "      <th>3</th>\n",
       "      <td>19</td>\n",
       "      <td>195.757895</td>\n",
       "      <td>192.860</td>\n",
       "      <td>47.653671</td>\n",
       "    </tr>\n",
       "    <tr>\n",
       "      <th rowspan=\"3\" valign=\"top\">old</th>\n",
       "      <th>1</th>\n",
       "      <td>14</td>\n",
       "      <td>215.206429</td>\n",
       "      <td>208.800</td>\n",
       "      <td>52.146869</td>\n",
       "    </tr>\n",
       "    <tr>\n",
       "      <th>2</th>\n",
       "      <td>15</td>\n",
       "      <td>189.090000</td>\n",
       "      <td>187.240</td>\n",
       "      <td>62.593980</td>\n",
       "    </tr>\n",
       "    <tr>\n",
       "      <th>3</th>\n",
       "      <td>17</td>\n",
       "      <td>225.974706</td>\n",
       "      <td>199.750</td>\n",
       "      <td>62.296675</td>\n",
       "    </tr>\n",
       "  </tbody>\n",
       "</table>\n",
       "</div>"
      ],
      "text/plain": [
       "                         total_sells                                \n",
       "                               count        mean   median        std\n",
       "AgeOfStore_cat Promotion                                            \n",
       "young          1                  16  248.713125  236.215  65.933102\n",
       "               2                  17  194.612941  186.620  52.878715\n",
       "               3                  11  258.868182  229.300  81.427624\n",
       "middle         1                  13  230.825385  223.900  72.830967\n",
       "               2                  15  183.544000  186.400  62.171389\n",
       "               3                  19  195.757895  192.860  47.653671\n",
       "old            1                  14  215.206429  208.800  52.146869\n",
       "               2                  15  189.090000  187.240  62.593980\n",
       "               3                  17  225.974706  199.750  62.296675"
      ]
     },
     "execution_count": 33,
     "metadata": {},
     "output_type": "execute_result"
    }
   ],
   "source": [
    "# В терминах описательных статистик:\n",
    "\n",
    "df.groupby(['AgeOfStore_cat', 'Promotion'])\\\n",
    "  .agg({'total_sells':['count','mean','median', np.std]}).sort_index()"
   ]
  },
  {
   "cell_type": "code",
   "execution_count": 77,
   "id": "20e4e005",
   "metadata": {},
   "outputs": [
    {
     "data": {
      "text/html": [
       "<div>\n",
       "<style scoped>\n",
       "    .dataframe tbody tr th:only-of-type {\n",
       "        vertical-align: middle;\n",
       "    }\n",
       "\n",
       "    .dataframe tbody tr th {\n",
       "        vertical-align: top;\n",
       "    }\n",
       "\n",
       "    .dataframe thead th {\n",
       "        text-align: right;\n",
       "    }\n",
       "</style>\n",
       "<table border=\"1\" class=\"dataframe\">\n",
       "  <thead>\n",
       "    <tr style=\"text-align: right;\">\n",
       "      <th></th>\n",
       "      <th>MarketID</th>\n",
       "      <th>MarketSize</th>\n",
       "      <th>LocationID</th>\n",
       "      <th>AgeOfStore</th>\n",
       "      <th>Promotion</th>\n",
       "      <th>total_sells</th>\n",
       "      <th>AgeOfStore_cat</th>\n",
       "      <th>promo_and_age_cat</th>\n",
       "    </tr>\n",
       "  </thead>\n",
       "  <tbody>\n",
       "    <tr>\n",
       "      <th>0</th>\n",
       "      <td>1</td>\n",
       "      <td>Medium</td>\n",
       "      <td>1</td>\n",
       "      <td>4</td>\n",
       "      <td>3</td>\n",
       "      <td>137.68</td>\n",
       "      <td>young</td>\n",
       "      <td>young_3</td>\n",
       "    </tr>\n",
       "    <tr>\n",
       "      <th>1</th>\n",
       "      <td>1</td>\n",
       "      <td>Medium</td>\n",
       "      <td>2</td>\n",
       "      <td>5</td>\n",
       "      <td>2</td>\n",
       "      <td>118.18</td>\n",
       "      <td>middle</td>\n",
       "      <td>middle_2</td>\n",
       "    </tr>\n",
       "    <tr>\n",
       "      <th>2</th>\n",
       "      <td>1</td>\n",
       "      <td>Medium</td>\n",
       "      <td>3</td>\n",
       "      <td>12</td>\n",
       "      <td>1</td>\n",
       "      <td>162.72</td>\n",
       "      <td>old</td>\n",
       "      <td>old_1</td>\n",
       "    </tr>\n",
       "    <tr>\n",
       "      <th>3</th>\n",
       "      <td>1</td>\n",
       "      <td>Medium</td>\n",
       "      <td>4</td>\n",
       "      <td>1</td>\n",
       "      <td>2</td>\n",
       "      <td>134.83</td>\n",
       "      <td>young</td>\n",
       "      <td>young_2</td>\n",
       "    </tr>\n",
       "    <tr>\n",
       "      <th>4</th>\n",
       "      <td>1</td>\n",
       "      <td>Medium</td>\n",
       "      <td>5</td>\n",
       "      <td>10</td>\n",
       "      <td>2</td>\n",
       "      <td>116.01</td>\n",
       "      <td>old</td>\n",
       "      <td>old_2</td>\n",
       "    </tr>\n",
       "  </tbody>\n",
       "</table>\n",
       "</div>"
      ],
      "text/plain": [
       "   MarketID MarketSize  LocationID  AgeOfStore  Promotion  total_sells  \\\n",
       "0         1     Medium           1           4          3       137.68   \n",
       "1         1     Medium           2           5          2       118.18   \n",
       "2         1     Medium           3          12          1       162.72   \n",
       "3         1     Medium           4           1          2       134.83   \n",
       "4         1     Medium           5          10          2       116.01   \n",
       "\n",
       "  AgeOfStore_cat promo_and_age_cat  \n",
       "0          young           young_3  \n",
       "1         middle          middle_2  \n",
       "2            old             old_1  \n",
       "3          young           young_2  \n",
       "4            old             old_2  "
      ]
     },
     "execution_count": 77,
     "metadata": {},
     "output_type": "execute_result"
    }
   ],
   "source": [
    "# Создадим вспомогательный датафрейм и добавим новую колонку - объединение значений Promotion и AgeOfStore_cat:\n",
    "\n",
    "df_1 = df.copy()\n",
    "df_1['promo_and_age_cat'] = df_1.AgeOfStore_cat.astype(str)+'_'+df_1.Promotion.astype(str)\n",
    "df_1.head()"
   ]
  },
  {
   "cell_type": "code",
   "execution_count": 78,
   "id": "bab79072",
   "metadata": {},
   "outputs": [
    {
     "name": "stdout",
     "output_type": "stream",
     "text": [
      "Взаимодействие young_3 имеет p-value: 0.06961347162723541\n",
      "Взаимодействие middle_2 имеет p-value: 0.011446213349699974\n",
      "Взаимодействие old_1 имеет p-value: 0.05677679553627968\n",
      "Взаимодействие young_2 имеет p-value: 0.0031421734020113945\n",
      "Взаимодействие old_2 имеет p-value: 0.02379944920539856\n",
      "Взаимодействие old_3 имеет p-value: 0.030832745134830475\n",
      "Взаимодействие middle_1 имеет p-value: 0.010984020307660103\n",
      "Взаимодействие middle_3 имеет p-value: 0.037661582231521606\n",
      "Взаимодействие young_1 имеет p-value: 0.02218078263103962\n"
     ]
    }
   ],
   "source": [
    "# Проводим тест на нормальность выборок:\n",
    "\n",
    "for interaction in df_1.promo_and_age_cat.unique():\n",
    "    print('Взаимодействие {} имеет p-value: {}'.format(interaction, \n",
    "                                                  shapiro(df_1[df_1.promo_and_age_cat==interaction].total_sells).pvalue))"
   ]
  },
  {
   "cell_type": "code",
   "execution_count": 79,
   "id": "46097915",
   "metadata": {},
   "outputs": [],
   "source": [
    "\"\"\"\n",
    "Видим, что нулевая гипотеза о нормальности отклоняется для каждой выборки, \n",
    "тогда пробуем нормализовать их методом Бокса-Кокса.\n",
    "Перебираем все возможные значения параметра lmbda и записываем для каждого - pvalue теста на нормальность:\n",
    "\n",
    "\"\"\"\n",
    "\n",
    "# Для promo_and_age_cat = young_3:\n",
    "pvalues_1 = []\n",
    "for i in range(-100,100):\n",
    "    lmbda = i/100\n",
    "    pvalues_1.append(shapiro(boxcox(df_1[df_1.promo_and_age_cat=='young_3'].total_sells, \n",
    "                                    lmbda=lmbda)).pvalue)\n",
    "    \n",
    "# Для promo_and_age_cat = middle_2:\n",
    "pvalues_2 = []\n",
    "for i in range(-100,100):\n",
    "    lmbda = i/100\n",
    "    pvalues_2.append(shapiro(boxcox(df_1[df_1.promo_and_age_cat=='middle_2'].total_sells, \n",
    "                                    lmbda=lmbda)).pvalue)\n",
    "\n",
    "# Для promo_and_age_cat = old_1:\n",
    "pvalues_3 = []\n",
    "for i in range(-100,100):\n",
    "    lmbda = i/100\n",
    "    pvalues_3.append(shapiro(boxcox(df_1[df_1.promo_and_age_cat=='old_1'].total_sells, \n",
    "                                    lmbda=lmbda)).pvalue)\n",
    "    \n",
    "# Для promo_and_age_cat = young_2:\n",
    "pvalues_4 = []\n",
    "for i in range(-100,100):\n",
    "    lmbda = i/100\n",
    "    pvalues_4.append(shapiro(boxcox(df_1[df_1.promo_and_age_cat=='young_2'].total_sells, \n",
    "                                    lmbda=lmbda)).pvalue)\n",
    "    \n",
    "# Для promo_and_age_cat = old_2:\n",
    "pvalues_5 = []\n",
    "for i in range(-100,100):\n",
    "    lmbda = i/100\n",
    "    pvalues_5.append(shapiro(boxcox(df_1[df_1.promo_and_age_cat=='old_2'].total_sells, \n",
    "                                    lmbda=lmbda)).pvalue)\n",
    "    \n",
    "# Для promo_and_age_cat = old_3\n",
    "pvalues_6 = []\n",
    "for i in range(-100,100):\n",
    "    lmbda = i/100\n",
    "    pvalues_6.append(shapiro(boxcox(df_1[df_1.promo_and_age_cat=='old_3'].total_sells, \n",
    "                                    lmbda=lmbda)).pvalue)\n",
    "# Для promo_and_age_cat = middle_1:\n",
    "pvalues_7 = []\n",
    "for i in range(-100,100):\n",
    "    lmbda = i/100\n",
    "    pvalues_7.append(shapiro(boxcox(df_1[df_1.promo_and_age_cat=='middle_1'].total_sells, \n",
    "                                    lmbda=lmbda)).pvalue)\n",
    "    \n",
    "# Для promo_and_age_cat = middle_3:\n",
    "pvalues_8 = []\n",
    "for i in range(-100,100):\n",
    "    lmbda = i/100\n",
    "    pvalues_8.append(shapiro(boxcox(df_1[df_1.promo_and_age_cat=='middle_3'].total_sells, \n",
    "                                    lmbda=lmbda)).pvalue)\n",
    "    \n",
    "# Для promo_and_age_cat = young_1:\n",
    "pvalues_9 = []\n",
    "for i in range(-100,100):\n",
    "    lmbda = i/100\n",
    "    pvalues_9.append(shapiro(boxcox(df_1[df_1.promo_and_age_cat=='young_1'].total_sells, \n",
    "                                    lmbda=lmbda)).pvalue)"
   ]
  },
  {
   "cell_type": "code",
   "execution_count": 80,
   "id": "21f88265",
   "metadata": {},
   "outputs": [
    {
     "data": {
      "image/png": "[encoded data removed]",
      "text/plain": [
       "<Figure size 432x288 with 1 Axes>"
      ]
     },
     "metadata": {},
     "output_type": "display_data"
    }
   ],
   "source": [
    "# Видим, что ни при каких значениях параметра lmbda, выборки не могут быть достоверно нормализованы \n",
    "# (есть лишь небольшое превышение порога pvalue=0.05):\n",
    "\n",
    "plt.plot([i/100 for i in range(-100,100)], pvalues_1)  \n",
    "plt.plot([i/100 for i in range(-100,100)], pvalues_2)\n",
    "plt.plot([i/100 for i in range(-100,100)], pvalues_3)\n",
    "plt.plot([i/100 for i in range(-100,100)], pvalues_4)\n",
    "plt.plot([i/100 for i in range(-100,100)], pvalues_5)\n",
    "plt.plot([i/100 for i in range(-100,100)], pvalues_6)\n",
    "plt.plot([i/100 for i in range(-100,100)], pvalues_7)\n",
    "plt.plot([i/100 for i in range(-100,100)], pvalues_8)\n",
    "plt.plot([i/100 for i in range(-100,100)], pvalues_9)\n",
    "\n",
    "plt.title('Нормализация выборок взаимодействий promo_and_age_cat')\n",
    "plt.legend(df_1.promo_and_age_cat.unique())\n",
    "plt.xlabel('lmbda')\n",
    "plt.ylabel('p-value')\n",
    "\n",
    "sns.despine()"
   ]
  },
  {
   "cell_type": "code",
   "execution_count": 81,
   "id": "99e045aa",
   "metadata": {},
   "outputs": [
    {
     "name": "stdout",
     "output_type": "stream",
     "text": [
      "Взаимодействие young_3 имеет p-value: 0.10991887003183365\n",
      "Взаимодействие middle_2 имеет p-value: 0.09564363956451416\n",
      "Взаимодействие old_1 имеет p-value: 0.9397796988487244\n",
      "Взаимодействие young_2 имеет p-value: 0.3850120007991791\n",
      "Взаимодействие old_2 имеет p-value: 0.14968179166316986\n",
      "Взаимодействие old_3 имеет p-value: 0.15421146154403687\n",
      "Взаимодействие middle_1 имеет p-value: 0.09547948837280273\n",
      "Взаимодействие middle_3 имеет p-value: 0.7570444345474243\n",
      "Взаимодействие young_1 имеет p-value: 0.28617897629737854\n"
     ]
    }
   ],
   "source": [
    "\"\"\"\n",
    "Приходим к выводу, что для всех выборок при lmbda=-0.75 нет оснований отклонять нулевую гипотезу о нормальности.\n",
    "Проверим данное утверждение еще раз.\n",
    "Видим, что скорректированные выборки имеют p-value теста на нормальность более 0.05:\n",
    "\n",
    "\"\"\"\n",
    "\n",
    "for interaction in df_1.promo_and_age_cat.unique():\n",
    "    boxcoxed = boxcox(df_1[df_1.promo_and_age_cat==interaction].total_sells, lmbda=-0.75)\n",
    "    \n",
    "    print('Взаимодействие {} имеет p-value: {}'.format(interaction, \n",
    "                                                  shapiro(boxcoxed).pvalue))"
   ]
  },
  {
   "cell_type": "code",
   "execution_count": 86,
   "id": "9f3390fe",
   "metadata": {},
   "outputs": [
    {
     "data": {
      "text/plain": [
       "LeveneResult(statistic=0.7722195754791844, pvalue=0.6278315740360212)"
      ]
     },
     "execution_count": 86,
     "metadata": {},
     "output_type": "execute_result"
    }
   ],
   "source": [
    "# Проводим тест на гомогенность скорректированных выборок:\n",
    "\n",
    "samples = [boxcox(df_1[df_1.promo_and_age_cat==i].total_sells, lmbda=-0.75) for i in df_1.promo_and_age_cat.unique()]\n",
    "levene(*samples)"
   ]
  },
  {
   "cell_type": "markdown",
   "id": "63db534f",
   "metadata": {},
   "source": [
    "***Заключаем, что скорректированные выборки нормальны и гомогенны.***"
   ]
  },
  {
   "cell_type": "code",
   "execution_count": 100,
   "id": "a04da6a1",
   "metadata": {},
   "outputs": [
    {
     "name": "stdout",
     "output_type": "stream",
     "text": [
      "Выборкам продаж c AgeOfStore_cat=young соответствует p-value дисперсионного анализа: 0.014244596511611082\n",
      "Выборкам продаж c AgeOfStore_cat=middle соответствует p-value дисперсионного анализа: 0.07678866007890428\n",
      "Выборкам продаж c AgeOfStore_cat=old соответствует p-value дисперсионного анализа: 0.08684243609839101\n"
     ]
    }
   ],
   "source": [
    "\"\"\"\n",
    "Проводим однофакторный дисперсионный анализ (непараметрический аналог ANOVA) \n",
    "скорректированных методом Бокса-Кокса данных продаж в разрезе по каждой \n",
    "категории возраста магазина:\n",
    "\"\"\"\n",
    "\n",
    "for age_cat in df_1.AgeOfStore_cat.unique():\n",
    "    \n",
    "    samples = [ boxcox(df_1[df_1.promo_and_age_cat==i].total_sells, lmbda=-0.75) for i in df_1.promo_and_age_cat.unique() \\\n",
    "                if age_cat in i]\n",
    "    \n",
    "    \n",
    "    \n",
    "    pvalue = f_oneway(*samples).pvalue\n",
    "    print('Выборкам продаж c AgeOfStore_cat={} соответствует p-value дисперсионного анализа: {}'.format(age_cat, pvalue))\n"
   ]
  },
  {
   "cell_type": "code",
   "execution_count": null,
   "id": "3975ddbe",
   "metadata": {},
   "outputs": [],
   "source": []
  },
  {
   "cell_type": "markdown",
   "id": "53729fd2",
   "metadata": {},
   "source": [
    "***Заключаем, что для каждой категории возраста магазина существует хотя бы 1 тип маркетинговой страгтегии (Promotion), который стат. значимо отличающиеся от остальных по объёмам продаж в первые 4 недели. Однако эта разница во всех случаях, скорее всего, несущественна т.к. все три получившихся p-value не сильно меньше 0.05.***"
   ]
  },
  {
   "cell_type": "markdown",
   "id": "4431bae7",
   "metadata": {},
   "source": [
    "---"
   ]
  },
  {
   "cell_type": "markdown",
   "id": "81674e19",
   "metadata": {},
   "source": [
    "***3.2 Для взаимодействия Promotion и MarketSize:***"
   ]
  },
  {
   "cell_type": "code",
   "execution_count": 41,
   "id": "e42234ab",
   "metadata": {},
   "outputs": [
    {
     "data": {
      "image/png": "[encoded data removed]",
      "text/plain": [
       "<Figure size 1143.17x360 with 3 Axes>"
      ]
     },
     "metadata": {},
     "output_type": "display_data"
    }
   ],
   "source": [
    "# На графиках распределения:\n",
    "\n",
    "sns.set_theme()\n",
    "sns.displot(data=df, x='total_sells', hue='Promotion', col='MarketSize', kind='kde', fill=True)\n",
    "sns.despine()"
   ]
  },
  {
   "cell_type": "code",
   "execution_count": 42,
   "id": "aa2004fe",
   "metadata": {},
   "outputs": [
    {
     "data": {
      "image/png": "[encoded data removed]",
      "text/plain": [
       "<Figure size 1080x360 with 3 Axes>"
      ]
     },
     "metadata": {},
     "output_type": "display_data"
    }
   ],
   "source": [
    "# На графиках боксплота:\n",
    "\n",
    "sns.set_theme()\n",
    "sns.catplot(data=df, x='Promotion', y='total_sells', col='MarketSize', kind='box')\n",
    "sns.despine()"
   ]
  },
  {
   "cell_type": "code",
   "execution_count": 43,
   "id": "bfb7c264",
   "metadata": {},
   "outputs": [
    {
     "data": {
      "text/html": [
       "<div>\n",
       "<style scoped>\n",
       "    .dataframe tbody tr th:only-of-type {\n",
       "        vertical-align: middle;\n",
       "    }\n",
       "\n",
       "    .dataframe tbody tr th {\n",
       "        vertical-align: top;\n",
       "    }\n",
       "\n",
       "    .dataframe thead tr th {\n",
       "        text-align: left;\n",
       "    }\n",
       "\n",
       "    .dataframe thead tr:last-of-type th {\n",
       "        text-align: right;\n",
       "    }\n",
       "</style>\n",
       "<table border=\"1\" class=\"dataframe\">\n",
       "  <thead>\n",
       "    <tr>\n",
       "      <th></th>\n",
       "      <th></th>\n",
       "      <th colspan=\"4\" halign=\"left\">total_sells</th>\n",
       "    </tr>\n",
       "    <tr>\n",
       "      <th></th>\n",
       "      <th></th>\n",
       "      <th>count</th>\n",
       "      <th>mean</th>\n",
       "      <th>median</th>\n",
       "      <th>std</th>\n",
       "    </tr>\n",
       "    <tr>\n",
       "      <th>MarketSize</th>\n",
       "      <th>Promotion</th>\n",
       "      <th></th>\n",
       "      <th></th>\n",
       "      <th></th>\n",
       "      <th></th>\n",
       "    </tr>\n",
       "  </thead>\n",
       "  <tbody>\n",
       "    <tr>\n",
       "      <th rowspan=\"3\" valign=\"top\">Large</th>\n",
       "      <th>1</th>\n",
       "      <td>14</td>\n",
       "      <td>300.943571</td>\n",
       "      <td>302.200</td>\n",
       "      <td>60.764873</td>\n",
       "    </tr>\n",
       "    <tr>\n",
       "      <th>2</th>\n",
       "      <td>16</td>\n",
       "      <td>241.288125</td>\n",
       "      <td>200.660</td>\n",
       "      <td>62.323645</td>\n",
       "    </tr>\n",
       "    <tr>\n",
       "      <th>3</th>\n",
       "      <td>12</td>\n",
       "      <td>308.815833</td>\n",
       "      <td>334.965</td>\n",
       "      <td>56.600475</td>\n",
       "    </tr>\n",
       "    <tr>\n",
       "      <th rowspan=\"3\" valign=\"top\">Medium</th>\n",
       "      <th>1</th>\n",
       "      <td>24</td>\n",
       "      <td>190.690417</td>\n",
       "      <td>197.625</td>\n",
       "      <td>26.425110</td>\n",
       "    </tr>\n",
       "    <tr>\n",
       "      <th>2</th>\n",
       "      <td>27</td>\n",
       "      <td>156.457407</td>\n",
       "      <td>163.720</td>\n",
       "      <td>29.800368</td>\n",
       "    </tr>\n",
       "    <tr>\n",
       "      <th>3</th>\n",
       "      <td>29</td>\n",
       "      <td>181.875517</td>\n",
       "      <td>188.660</td>\n",
       "      <td>28.143485</td>\n",
       "    </tr>\n",
       "    <tr>\n",
       "      <th rowspan=\"3\" valign=\"top\">Small</th>\n",
       "      <th>1</th>\n",
       "      <td>5</td>\n",
       "      <td>240.650000</td>\n",
       "      <td>235.550</td>\n",
       "      <td>13.323755</td>\n",
       "    </tr>\n",
       "    <tr>\n",
       "      <th>2</th>\n",
       "      <td>4</td>\n",
       "      <td>203.242500</td>\n",
       "      <td>205.645</td>\n",
       "      <td>7.829859</td>\n",
       "    </tr>\n",
       "    <tr>\n",
       "      <th>3</th>\n",
       "      <td>6</td>\n",
       "      <td>238.056667</td>\n",
       "      <td>238.650</td>\n",
       "      <td>17.214765</td>\n",
       "    </tr>\n",
       "  </tbody>\n",
       "</table>\n",
       "</div>"
      ],
      "text/plain": [
       "                     total_sells                                \n",
       "                           count        mean   median        std\n",
       "MarketSize Promotion                                            \n",
       "Large      1                  14  300.943571  302.200  60.764873\n",
       "           2                  16  241.288125  200.660  62.323645\n",
       "           3                  12  308.815833  334.965  56.600475\n",
       "Medium     1                  24  190.690417  197.625  26.425110\n",
       "           2                  27  156.457407  163.720  29.800368\n",
       "           3                  29  181.875517  188.660  28.143485\n",
       "Small      1                   5  240.650000  235.550  13.323755\n",
       "           2                   4  203.242500  205.645   7.829859\n",
       "           3                   6  238.056667  238.650  17.214765"
      ]
     },
     "execution_count": 43,
     "metadata": {},
     "output_type": "execute_result"
    }
   ],
   "source": [
    "# В терминах описательных статистик:\n",
    "\n",
    "df.groupby(['MarketSize', 'Promotion'])\\\n",
    "  .agg({'total_sells':['count','mean','median', np.std]}).sort_index()"
   ]
  },
  {
   "cell_type": "code",
   "execution_count": 45,
   "id": "79c0bbb1",
   "metadata": {},
   "outputs": [
    {
     "data": {
      "text/html": [
       "<div>\n",
       "<style scoped>\n",
       "    .dataframe tbody tr th:only-of-type {\n",
       "        vertical-align: middle;\n",
       "    }\n",
       "\n",
       "    .dataframe tbody tr th {\n",
       "        vertical-align: top;\n",
       "    }\n",
       "\n",
       "    .dataframe thead th {\n",
       "        text-align: right;\n",
       "    }\n",
       "</style>\n",
       "<table border=\"1\" class=\"dataframe\">\n",
       "  <thead>\n",
       "    <tr style=\"text-align: right;\">\n",
       "      <th></th>\n",
       "      <th>MarketID</th>\n",
       "      <th>MarketSize</th>\n",
       "      <th>LocationID</th>\n",
       "      <th>AgeOfStore</th>\n",
       "      <th>Promotion</th>\n",
       "      <th>total_sells</th>\n",
       "      <th>AgeOfStore_cat</th>\n",
       "      <th>promo_and_marketsize</th>\n",
       "    </tr>\n",
       "  </thead>\n",
       "  <tbody>\n",
       "    <tr>\n",
       "      <th>0</th>\n",
       "      <td>1</td>\n",
       "      <td>Medium</td>\n",
       "      <td>1</td>\n",
       "      <td>4</td>\n",
       "      <td>3</td>\n",
       "      <td>137.68</td>\n",
       "      <td>young</td>\n",
       "      <td>Medium_3</td>\n",
       "    </tr>\n",
       "    <tr>\n",
       "      <th>1</th>\n",
       "      <td>1</td>\n",
       "      <td>Medium</td>\n",
       "      <td>2</td>\n",
       "      <td>5</td>\n",
       "      <td>2</td>\n",
       "      <td>118.18</td>\n",
       "      <td>middle</td>\n",
       "      <td>Medium_2</td>\n",
       "    </tr>\n",
       "    <tr>\n",
       "      <th>2</th>\n",
       "      <td>1</td>\n",
       "      <td>Medium</td>\n",
       "      <td>3</td>\n",
       "      <td>12</td>\n",
       "      <td>1</td>\n",
       "      <td>162.72</td>\n",
       "      <td>old</td>\n",
       "      <td>Medium_1</td>\n",
       "    </tr>\n",
       "    <tr>\n",
       "      <th>3</th>\n",
       "      <td>1</td>\n",
       "      <td>Medium</td>\n",
       "      <td>4</td>\n",
       "      <td>1</td>\n",
       "      <td>2</td>\n",
       "      <td>134.83</td>\n",
       "      <td>young</td>\n",
       "      <td>Medium_2</td>\n",
       "    </tr>\n",
       "    <tr>\n",
       "      <th>4</th>\n",
       "      <td>1</td>\n",
       "      <td>Medium</td>\n",
       "      <td>5</td>\n",
       "      <td>10</td>\n",
       "      <td>2</td>\n",
       "      <td>116.01</td>\n",
       "      <td>old</td>\n",
       "      <td>Medium_2</td>\n",
       "    </tr>\n",
       "  </tbody>\n",
       "</table>\n",
       "</div>"
      ],
      "text/plain": [
       "   MarketID MarketSize  LocationID  AgeOfStore  Promotion  total_sells  \\\n",
       "0         1     Medium           1           4          3       137.68   \n",
       "1         1     Medium           2           5          2       118.18   \n",
       "2         1     Medium           3          12          1       162.72   \n",
       "3         1     Medium           4           1          2       134.83   \n",
       "4         1     Medium           5          10          2       116.01   \n",
       "\n",
       "  AgeOfStore_cat promo_and_marketsize  \n",
       "0          young             Medium_3  \n",
       "1         middle             Medium_2  \n",
       "2            old             Medium_1  \n",
       "3          young             Medium_2  \n",
       "4            old             Medium_2  "
      ]
     },
     "execution_count": 45,
     "metadata": {},
     "output_type": "execute_result"
    }
   ],
   "source": [
    "# Создадим вспомогательный датафрейм и добавим новую колонку - объединение значений Promotion и AgeOfStore_cat:\n",
    "\n",
    "df_2 = df.copy()\n",
    "df_2['promo_and_marketsize'] = df_2.MarketSize.astype(str)+'_'+df_2.Promotion.astype(str)\n",
    "df_2.head()"
   ]
  },
  {
   "cell_type": "code",
   "execution_count": 55,
   "id": "0c97f889",
   "metadata": {},
   "outputs": [
    {
     "data": {
      "text/plain": [
       "LeveneResult(statistic=4.499689051391032, pvalue=7.75224887124516e-05)"
      ]
     },
     "execution_count": 55,
     "metadata": {},
     "output_type": "execute_result"
    }
   ],
   "source": [
    "# Проводим тест на гомогенность выборок:\n",
    "\n",
    "samples = [ df_2[df_2.promo_and_marketsize==i].total_sells for i in df_2.promo_and_marketsize.unique()]\n",
    "\n",
    "levene(*samples)"
   ]
  },
  {
   "cell_type": "code",
   "execution_count": 62,
   "id": "82a6d891",
   "metadata": {},
   "outputs": [
    {
     "name": "stdout",
     "output_type": "stream",
     "text": [
      "Выборкам MarketSize=Medium соответствует p-value гипотезы гомогенности: 0.5317541131352252\n",
      "Выборкам MarketSize=Small соответствует p-value гипотезы гомогенности: 0.608640310822746\n",
      "Выборкам MarketSize=Large соответствует p-value гипотезы гомогенности: 0.4525212685151805\n"
     ]
    }
   ],
   "source": [
    "\"\"\"\n",
    "Видим, что нельзя говорить о гомогенности всех выборок одновременно. Обращаемся к боксполтам (выше) и замечаем, что \n",
    "изменчивость данных примерно одинакова внутри отдельных значений MarketSize. Тогда проверим гипотезу, что выборки гомогенны\n",
    "внутри одного типа MarketSize:\n",
    "\n",
    "\"\"\"\n",
    "\n",
    "for size_type in df_2.MarketSize.unique():\n",
    "    samples = [ df_2[df_2.promo_and_marketsize==i].total_sells for i in df_2.promo_and_marketsize.unique() \\\n",
    "                if size_type in i]\n",
    "    pvalue = levene(*samples).pvalue\n",
    "    print('Выборкам MarketSize={} соответствует p-value гипотезы гомогенности: {}'.format(size_type, pvalue))"
   ]
  },
  {
   "cell_type": "markdown",
   "id": "68ba666a",
   "metadata": {},
   "source": [
    "**Таким образом, видим, что условие гомогенности выполняется для выборок внутри каждого отдельного типа MarketSize. Поэтому в дальнейшем также будем рассматривать их в отдельности.**"
   ]
  },
  {
   "cell_type": "markdown",
   "id": "689e11d0",
   "metadata": {},
   "source": [
    "***Заключаем, что выборки в разрезе по каждому типу MarketSize не нормальны и гомогенны. Тогда применим отдельно для выборок внутри каждого типа MarketSize непараметрический аналог ANOVA - критерий Краскала-Уоллиса.***"
   ]
  },
  {
   "cell_type": "code",
   "execution_count": 101,
   "id": "4dfbbe72",
   "metadata": {},
   "outputs": [
    {
     "name": "stdout",
     "output_type": "stream",
     "text": [
      "Выборкам с MarketSize=Medium соответствует p-value теста Краскала-Уоллиса: 0.0004026880364685163\n",
      "Выборкам с MarketSize=Small соответствует p-value теста Краскала-Уоллиса: 0.03282165832666328\n",
      "Выборкам с MarketSize=Large соответствует p-value теста Краскала-Уоллиса: 0.001007122001436089\n"
     ]
    }
   ],
   "source": [
    "for size_type in df_2.MarketSize.unique():\n",
    "    samples = [ df_2[df_2.promo_and_marketsize==i].total_sells for i in df_2.promo_and_marketsize.unique() \\\n",
    "                if size_type in i]\n",
    "    \n",
    "    pvalue = kruskal(*samples).pvalue\n",
    "    print('Выборкам с MarketSize={} соответствует p-value теста Краскала-Уоллиса: {}'.format(size_type, pvalue))"
   ]
  },
  {
   "cell_type": "markdown",
   "id": "4c49fcd6",
   "metadata": {},
   "source": [
    "***Заключаем, что внутри каждого типа MarketSize существует хотя бы 1 тип маркетинговой страгтегии (Promotion), который стат. значимо отличающиеся от остальных по объёмам продаж в первые 4 недели.***"
   ]
  },
  {
   "cell_type": "markdown",
   "id": "eed6b5c8",
   "metadata": {},
   "source": [
    "---"
   ]
  },
  {
   "cell_type": "markdown",
   "id": "e97f0f17",
   "metadata": {},
   "source": [
    "# Формулировка гипотезы."
   ]
  },
  {
   "cell_type": "markdown",
   "id": "22e8307e",
   "metadata": {},
   "source": [
    "Резюмируя разведывательный анализ, мы получили, что:\n",
    "\n",
    "1. Хотя бы 1 тип маркетинговой стратегии (Promotion) дает стат. знач. отличный от остальных объем продаж в первые 4 недели, если судить в разрезе только по типам маркетинговых стратегий (Promotion).\n",
    "\n",
    "\n",
    "2. Хотя бы 1 тип маркетинговой стратегии (Promotion) дает стат. знач. отличный от остальных объем продаж в первые 4 недели, если судить в разрезе по категории возраста магазина (AgeOfStore_cat: young, middle, old).\n",
    "\n",
    "\n",
    "3. Хотя бы 1 тип маркетинговой стратегии (Promotion) дает стат. знач. отличный от остальных объем продаж в первые 4 недели, если судить в разрезе по размеру рынка (MarketSize)."
   ]
  },
  {
   "cell_type": "markdown",
   "id": "4f849919",
   "metadata": {},
   "source": [
    "Чтобы в будущем сделать однозначный вывод о том, какую маректинговую стратегию необходимо выбрать каждому магазину для максимизации продаж в первые 4 недели, нам необходимо выбрать только одну гипотезу для дальнейшей проверки - дающую наиболее существенные различия между результатами продаж."
   ]
  },
  {
   "cell_type": "markdown",
   "id": "a2e31399",
   "metadata": {},
   "source": [
    "Обратимся для этого к результатам разведывательного анализа:"
   ]
  },
  {
   "cell_type": "markdown",
   "id": "03a02fc6",
   "metadata": {},
   "source": [
    "1. Для разреза только по типам маректинговой стратегии (Promotion):\n"
   ]
  },
  {
   "cell_type": "code",
   "execution_count": 103,
   "id": "ab07a01e",
   "metadata": {},
   "outputs": [
    {
     "data": {
      "image/png": "[encoded data removed]",
      "text/plain": [
       "<Figure size 432x288 with 1 Axes>"
      ]
     },
     "metadata": {},
     "output_type": "display_data"
    }
   ],
   "source": [
    "# Боксплоты продаж получились:\n",
    "\n",
    "sns.boxplot(x=\"Promotion\", y=\"total_sells\", data=df)\n",
    "sns.despine()"
   ]
  },
  {
   "cell_type": "markdown",
   "id": "1c4ae61a",
   "metadata": {},
   "source": [
    "Видим, что \"усы\" синего боксплота полностью перекрываются зеленым. То есть между 1 и 3 стратегиями нет стат. знач. разницы. Вто же время медиана оранжевого боксплота находится ниже и синего и зеленого, но сам боксплот почти полностью перекрывается зеленым. Это говорит о том, что между 2 и 3 стратегиями тоже ,скорее всего, нет стат. знач. разницы."
   ]
  },
  {
   "cell_type": "code",
   "execution_count": 104,
   "id": "de4e0bc3",
   "metadata": {},
   "outputs": [
    {
     "data": {
      "text/html": [
       "<div>\n",
       "<style scoped>\n",
       "    .dataframe tbody tr th:only-of-type {\n",
       "        vertical-align: middle;\n",
       "    }\n",
       "\n",
       "    .dataframe tbody tr th {\n",
       "        vertical-align: top;\n",
       "    }\n",
       "\n",
       "    .dataframe thead tr th {\n",
       "        text-align: left;\n",
       "    }\n",
       "\n",
       "    .dataframe thead tr:last-of-type th {\n",
       "        text-align: right;\n",
       "    }\n",
       "</style>\n",
       "<table border=\"1\" class=\"dataframe\">\n",
       "  <thead>\n",
       "    <tr>\n",
       "      <th></th>\n",
       "      <th colspan=\"4\" halign=\"left\">total_sells</th>\n",
       "    </tr>\n",
       "    <tr>\n",
       "      <th></th>\n",
       "      <th>count</th>\n",
       "      <th>mean</th>\n",
       "      <th>median</th>\n",
       "      <th>std</th>\n",
       "    </tr>\n",
       "    <tr>\n",
       "      <th>Promotion</th>\n",
       "      <th></th>\n",
       "      <th></th>\n",
       "      <th></th>\n",
       "      <th></th>\n",
       "    </tr>\n",
       "  </thead>\n",
       "  <tbody>\n",
       "    <tr>\n",
       "      <th>1</th>\n",
       "      <td>43</td>\n",
       "      <td>232.396047</td>\n",
       "      <td>224.30</td>\n",
       "      <td>64.112891</td>\n",
       "    </tr>\n",
       "    <tr>\n",
       "      <th>2</th>\n",
       "      <td>47</td>\n",
       "      <td>189.317660</td>\n",
       "      <td>186.62</td>\n",
       "      <td>57.988389</td>\n",
       "    </tr>\n",
       "    <tr>\n",
       "      <th>3</th>\n",
       "      <td>47</td>\n",
       "      <td>221.457872</td>\n",
       "      <td>199.41</td>\n",
       "      <td>65.535463</td>\n",
       "    </tr>\n",
       "  </tbody>\n",
       "</table>\n",
       "</div>"
      ],
      "text/plain": [
       "          total_sells                               \n",
       "                count        mean  median        std\n",
       "Promotion                                           \n",
       "1                  43  232.396047  224.30  64.112891\n",
       "2                  47  189.317660  186.62  57.988389\n",
       "3                  47  221.457872  199.41  65.535463"
      ]
     },
     "execution_count": 104,
     "metadata": {},
     "output_type": "execute_result"
    }
   ],
   "source": [
    "# Описательные статистики рез-тов продаж получились:\n",
    "\n",
    "df.groupby('Promotion')\\\n",
    "  .agg({'total_sells':['count', 'mean','median', np.std]})"
   ]
  },
  {
   "cell_type": "code",
   "execution_count": 129,
   "id": "f1356dd2",
   "metadata": {},
   "outputs": [
    {
     "name": "stdout",
     "output_type": "stream",
     "text": [
      "Медиана числа продаж 2 стратегии на 17 % ниже, чем у 1\n",
      "Медиана числа продаж 2 стратегии на 7 % ниже, чем у 3\n",
      "Медиана числа продаж 3 стратегии на 11 % ниже, чем у 1\n"
     ]
    }
   ],
   "source": [
    "# Разница медиан объемов продаж в первые 4 недели:\n",
    "\n",
    "print('Медиана числа продаж 2 стратегии на {} % ниже, чем у 1'.format( round((224-186)*100/224)) )\n",
    "print('Медиана числа продаж 2 стратегии на {} % ниже, чем у 3'.format( round((199-186)*100/199)) )\n",
    "print('Медиана числа продаж 3 стратегии на {} % ниже, чем у 1'.format( round((224-199)*100/224)) )"
   ]
  },
  {
   "cell_type": "code",
   "execution_count": 117,
   "id": "2a1ce533",
   "metadata": {},
   "outputs": [
    {
     "name": "stdout",
     "output_type": "stream",
     "text": [
      "pvalue=0.00017274617006801915\n"
     ]
    }
   ],
   "source": [
    "# Результат теста Краскела-Уоллиса:\n",
    "\n",
    "print('pvalue=0.00017274617006801915')"
   ]
  },
  {
   "cell_type": "code",
   "execution_count": null,
   "id": "30dcc6df",
   "metadata": {},
   "outputs": [],
   "source": []
  },
  {
   "cell_type": "markdown",
   "id": "0d0762b4",
   "metadata": {},
   "source": [
    "2. Для разреза по категории возраста магазина (AgeOfStore_cat: young, middle, old):"
   ]
  },
  {
   "cell_type": "code",
   "execution_count": 116,
   "id": "9e68a000",
   "metadata": {
    "scrolled": true
   },
   "outputs": [
    {
     "data": {
      "image/png": "[encoded data removed]",
      "text/plain": [
       "<Figure size 1080x360 with 3 Axes>"
      ]
     },
     "metadata": {},
     "output_type": "display_data"
    }
   ],
   "source": [
    "# Боксплоты продаж получились:\n",
    "\n",
    "sns.set_theme()\n",
    "sns.catplot(data=df, x='Promotion', y='total_sells', col='AgeOfStore_cat', kind='box')\n",
    "sns.despine()"
   ]
  },
  {
   "cell_type": "markdown",
   "id": "18748ae9",
   "metadata": {},
   "source": [
    "Видим, что во всех случаях \"усы\" синего боксплота полностью перекрываются зеленым. Это также означает, что между продажами после 1 и 3 стратегиями нет стат. значимой разницы ни для одной категории возраста магазина. В то же время 2 стратегия также показывает более низкие рез-ты продаж по сравнению с остальными. Однако медиана продаж не сильно отличается у 2 и 3 в каждой категории возраста магазина. Также \"усы\" боксплота второй стратегии не сильно выходят за пределы \"усов\" 3 стратегии , это означает, что скорее всего, разница в продажах после 2 и 3 стратегий практически не отличается стат. значимо."
   ]
  },
  {
   "cell_type": "code",
   "execution_count": 130,
   "id": "ce55aaa0",
   "metadata": {},
   "outputs": [
    {
     "data": {
      "text/html": [
       "<div>\n",
       "<style scoped>\n",
       "    .dataframe tbody tr th:only-of-type {\n",
       "        vertical-align: middle;\n",
       "    }\n",
       "\n",
       "    .dataframe tbody tr th {\n",
       "        vertical-align: top;\n",
       "    }\n",
       "\n",
       "    .dataframe thead tr th {\n",
       "        text-align: left;\n",
       "    }\n",
       "\n",
       "    .dataframe thead tr:last-of-type th {\n",
       "        text-align: right;\n",
       "    }\n",
       "</style>\n",
       "<table border=\"1\" class=\"dataframe\">\n",
       "  <thead>\n",
       "    <tr>\n",
       "      <th></th>\n",
       "      <th></th>\n",
       "      <th colspan=\"4\" halign=\"left\">total_sells</th>\n",
       "    </tr>\n",
       "    <tr>\n",
       "      <th></th>\n",
       "      <th></th>\n",
       "      <th>count</th>\n",
       "      <th>mean</th>\n",
       "      <th>median</th>\n",
       "      <th>std</th>\n",
       "    </tr>\n",
       "    <tr>\n",
       "      <th>AgeOfStore_cat</th>\n",
       "      <th>Promotion</th>\n",
       "      <th></th>\n",
       "      <th></th>\n",
       "      <th></th>\n",
       "      <th></th>\n",
       "    </tr>\n",
       "  </thead>\n",
       "  <tbody>\n",
       "    <tr>\n",
       "      <th rowspan=\"3\" valign=\"top\">young</th>\n",
       "      <th>1</th>\n",
       "      <td>16</td>\n",
       "      <td>248.713125</td>\n",
       "      <td>236.215</td>\n",
       "      <td>65.933102</td>\n",
       "    </tr>\n",
       "    <tr>\n",
       "      <th>2</th>\n",
       "      <td>17</td>\n",
       "      <td>194.612941</td>\n",
       "      <td>186.620</td>\n",
       "      <td>52.878715</td>\n",
       "    </tr>\n",
       "    <tr>\n",
       "      <th>3</th>\n",
       "      <td>11</td>\n",
       "      <td>258.868182</td>\n",
       "      <td>229.300</td>\n",
       "      <td>81.427624</td>\n",
       "    </tr>\n",
       "    <tr>\n",
       "      <th rowspan=\"3\" valign=\"top\">middle</th>\n",
       "      <th>1</th>\n",
       "      <td>13</td>\n",
       "      <td>230.825385</td>\n",
       "      <td>223.900</td>\n",
       "      <td>72.830967</td>\n",
       "    </tr>\n",
       "    <tr>\n",
       "      <th>2</th>\n",
       "      <td>15</td>\n",
       "      <td>183.544000</td>\n",
       "      <td>186.400</td>\n",
       "      <td>62.171389</td>\n",
       "    </tr>\n",
       "    <tr>\n",
       "      <th>3</th>\n",
       "      <td>19</td>\n",
       "      <td>195.757895</td>\n",
       "      <td>192.860</td>\n",
       "      <td>47.653671</td>\n",
       "    </tr>\n",
       "    <tr>\n",
       "      <th rowspan=\"3\" valign=\"top\">old</th>\n",
       "      <th>1</th>\n",
       "      <td>14</td>\n",
       "      <td>215.206429</td>\n",
       "      <td>208.800</td>\n",
       "      <td>52.146869</td>\n",
       "    </tr>\n",
       "    <tr>\n",
       "      <th>2</th>\n",
       "      <td>15</td>\n",
       "      <td>189.090000</td>\n",
       "      <td>187.240</td>\n",
       "      <td>62.593980</td>\n",
       "    </tr>\n",
       "    <tr>\n",
       "      <th>3</th>\n",
       "      <td>17</td>\n",
       "      <td>225.974706</td>\n",
       "      <td>199.750</td>\n",
       "      <td>62.296675</td>\n",
       "    </tr>\n",
       "  </tbody>\n",
       "</table>\n",
       "</div>"
      ],
      "text/plain": [
       "                         total_sells                                \n",
       "                               count        mean   median        std\n",
       "AgeOfStore_cat Promotion                                            \n",
       "young          1                  16  248.713125  236.215  65.933102\n",
       "               2                  17  194.612941  186.620  52.878715\n",
       "               3                  11  258.868182  229.300  81.427624\n",
       "middle         1                  13  230.825385  223.900  72.830967\n",
       "               2                  15  183.544000  186.400  62.171389\n",
       "               3                  19  195.757895  192.860  47.653671\n",
       "old            1                  14  215.206429  208.800  52.146869\n",
       "               2                  15  189.090000  187.240  62.593980\n",
       "               3                  17  225.974706  199.750  62.296675"
      ]
     },
     "execution_count": 130,
     "metadata": {},
     "output_type": "execute_result"
    }
   ],
   "source": [
    "# Описательные статистики рез-тов продаж получились:\n",
    "\n",
    "df.groupby(['AgeOfStore_cat', 'Promotion'])\\\n",
    "  .agg({'total_sells':['count','mean','median', np.std]}).sort_index()"
   ]
  },
  {
   "cell_type": "code",
   "execution_count": 142,
   "id": "a73aabbc",
   "metadata": {},
   "outputs": [
    {
     "name": "stdout",
     "output_type": "stream",
     "text": [
      "Макисмальная разница медиан продаж для AgeOfStore_cat=young: 19%\n",
      "Макисмальная разница медиан продаж для AgeOfStore_cat=middle: 3%\n",
      "Макисмальная разница медиан продаж для AgeOfStore_cat=old: 6%\n"
     ]
    }
   ],
   "source": [
    "# Разница медиан объемов продаж в первые 4 недели:\n",
    "\n",
    "print('Макисмальная разница медиан продаж для AgeOfStore_cat={}: {}%'.format('young', round((229-186)*100/229)))\n",
    "print('Макисмальная разница медиан продаж для AgeOfStore_cat={}: {}%'.format('middle', round((192-186)*100/192)))\n",
    "print('Макисмальная разница медиан продаж для AgeOfStore_cat={}: {}%'.format('old', round((199-187)*100/199)))"
   ]
  },
  {
   "cell_type": "code",
   "execution_count": 122,
   "id": "83afc402",
   "metadata": {},
   "outputs": [
    {
     "name": "stdout",
     "output_type": "stream",
     "text": [
      "Выборкам продаж c AgeOfStore_cat=young соответствует p-value дисперсионного анализа: 0.014244596511611082\n",
      "Выборкам продаж c AgeOfStore_cat=middle соответствует p-value дисперсионного анализа: 0.07678866007890428\n",
      "Выборкам продаж c AgeOfStore_cat=old соответствует p-value дисперсионного анализа: 0.08684243609839101\n"
     ]
    }
   ],
   "source": [
    "# Результаты дисперсионного анализа для каждой категории возраста магазина:\n",
    "\n",
    "print('Выборкам продаж c AgeOfStore_cat=young соответствует p-value дисперсионного анализа: 0.014244596511611082')\n",
    "print('Выборкам продаж c AgeOfStore_cat=middle соответствует p-value дисперсионного анализа: 0.07678866007890428')\n",
    "print('Выборкам продаж c AgeOfStore_cat=old соответствует p-value дисперсионного анализа: 0.08684243609839101')"
   ]
  },
  {
   "cell_type": "markdown",
   "id": "4f9d1560",
   "metadata": {},
   "source": [
    "---"
   ]
  },
  {
   "cell_type": "markdown",
   "id": "92d115af",
   "metadata": {},
   "source": [
    "3. Для разреза по размеру рынка (MarketSize):"
   ]
  },
  {
   "cell_type": "code",
   "execution_count": 123,
   "id": "584f1092",
   "metadata": {},
   "outputs": [
    {
     "data": {
      "image/png": "[encoded data removed]",
      "text/plain": [
       "<Figure size 1080x360 with 3 Axes>"
      ]
     },
     "metadata": {},
     "output_type": "display_data"
    }
   ],
   "source": [
    "# Боксплоты продаж получились:\n",
    "\n",
    "sns.set_theme()\n",
    "sns.catplot(data=df, x='Promotion', y='total_sells', col='MarketSize', kind='box')\n",
    "sns.despine()"
   ]
  },
  {
   "cell_type": "markdown",
   "id": "3ae844fa",
   "metadata": {},
   "source": [
    "Видим, что во всех случаях \"усы\" синего и зеленого боксплота полностью перекрываются друг другом. Это также означает, что между продажами после 1 и 3 стратегиями нет стат. значимой разницы ни для одной категории размера рынка магазина (MarketSize).  В то же время наблюдается отсутствие перекрытия \"усов\" боксплота продаж 2 стратегии с усами какой-либо другой стратегии при MarketSize=Small , однако это может вызываться тем, что размеры этих выборок слишком малы и данные нерепрезентативны."
   ]
  },
  {
   "cell_type": "code",
   "execution_count": 125,
   "id": "1dba6934",
   "metadata": {},
   "outputs": [
    {
     "data": {
      "text/html": [
       "<div>\n",
       "<style scoped>\n",
       "    .dataframe tbody tr th:only-of-type {\n",
       "        vertical-align: middle;\n",
       "    }\n",
       "\n",
       "    .dataframe tbody tr th {\n",
       "        vertical-align: top;\n",
       "    }\n",
       "\n",
       "    .dataframe thead tr th {\n",
       "        text-align: left;\n",
       "    }\n",
       "\n",
       "    .dataframe thead tr:last-of-type th {\n",
       "        text-align: right;\n",
       "    }\n",
       "</style>\n",
       "<table border=\"1\" class=\"dataframe\">\n",
       "  <thead>\n",
       "    <tr>\n",
       "      <th></th>\n",
       "      <th></th>\n",
       "      <th colspan=\"4\" halign=\"left\">total_sells</th>\n",
       "    </tr>\n",
       "    <tr>\n",
       "      <th></th>\n",
       "      <th></th>\n",
       "      <th>count</th>\n",
       "      <th>mean</th>\n",
       "      <th>median</th>\n",
       "      <th>std</th>\n",
       "    </tr>\n",
       "    <tr>\n",
       "      <th>MarketSize</th>\n",
       "      <th>Promotion</th>\n",
       "      <th></th>\n",
       "      <th></th>\n",
       "      <th></th>\n",
       "      <th></th>\n",
       "    </tr>\n",
       "  </thead>\n",
       "  <tbody>\n",
       "    <tr>\n",
       "      <th rowspan=\"3\" valign=\"top\">Large</th>\n",
       "      <th>1</th>\n",
       "      <td>14</td>\n",
       "      <td>300.943571</td>\n",
       "      <td>302.200</td>\n",
       "      <td>60.764873</td>\n",
       "    </tr>\n",
       "    <tr>\n",
       "      <th>2</th>\n",
       "      <td>16</td>\n",
       "      <td>241.288125</td>\n",
       "      <td>200.660</td>\n",
       "      <td>62.323645</td>\n",
       "    </tr>\n",
       "    <tr>\n",
       "      <th>3</th>\n",
       "      <td>12</td>\n",
       "      <td>308.815833</td>\n",
       "      <td>334.965</td>\n",
       "      <td>56.600475</td>\n",
       "    </tr>\n",
       "    <tr>\n",
       "      <th rowspan=\"3\" valign=\"top\">Medium</th>\n",
       "      <th>1</th>\n",
       "      <td>24</td>\n",
       "      <td>190.690417</td>\n",
       "      <td>197.625</td>\n",
       "      <td>26.425110</td>\n",
       "    </tr>\n",
       "    <tr>\n",
       "      <th>2</th>\n",
       "      <td>27</td>\n",
       "      <td>156.457407</td>\n",
       "      <td>163.720</td>\n",
       "      <td>29.800368</td>\n",
       "    </tr>\n",
       "    <tr>\n",
       "      <th>3</th>\n",
       "      <td>29</td>\n",
       "      <td>181.875517</td>\n",
       "      <td>188.660</td>\n",
       "      <td>28.143485</td>\n",
       "    </tr>\n",
       "    <tr>\n",
       "      <th rowspan=\"3\" valign=\"top\">Small</th>\n",
       "      <th>1</th>\n",
       "      <td>5</td>\n",
       "      <td>240.650000</td>\n",
       "      <td>235.550</td>\n",
       "      <td>13.323755</td>\n",
       "    </tr>\n",
       "    <tr>\n",
       "      <th>2</th>\n",
       "      <td>4</td>\n",
       "      <td>203.242500</td>\n",
       "      <td>205.645</td>\n",
       "      <td>7.829859</td>\n",
       "    </tr>\n",
       "    <tr>\n",
       "      <th>3</th>\n",
       "      <td>6</td>\n",
       "      <td>238.056667</td>\n",
       "      <td>238.650</td>\n",
       "      <td>17.214765</td>\n",
       "    </tr>\n",
       "  </tbody>\n",
       "</table>\n",
       "</div>"
      ],
      "text/plain": [
       "                     total_sells                                \n",
       "                           count        mean   median        std\n",
       "MarketSize Promotion                                            \n",
       "Large      1                  14  300.943571  302.200  60.764873\n",
       "           2                  16  241.288125  200.660  62.323645\n",
       "           3                  12  308.815833  334.965  56.600475\n",
       "Medium     1                  24  190.690417  197.625  26.425110\n",
       "           2                  27  156.457407  163.720  29.800368\n",
       "           3                  29  181.875517  188.660  28.143485\n",
       "Small      1                   5  240.650000  235.550  13.323755\n",
       "           2                   4  203.242500  205.645   7.829859\n",
       "           3                   6  238.056667  238.650  17.214765"
      ]
     },
     "execution_count": 125,
     "metadata": {},
     "output_type": "execute_result"
    }
   ],
   "source": [
    "# Описательные статистики рез-тов продаж получились:\n",
    "\n",
    "df.groupby(['MarketSize', 'Promotion'])\\\n",
    "  .agg({'total_sells':['count','mean','median', np.std]}).sort_index()"
   ]
  },
  {
   "cell_type": "code",
   "execution_count": 141,
   "id": "3cb3ef65",
   "metadata": {},
   "outputs": [
    {
     "name": "stdout",
     "output_type": "stream",
     "text": [
      "Макисмальная разница медиан продаж для MarketSize=Large: 34%\n",
      "Макисмальная разница медиан продаж для MarketSize=Medium: 13%\n",
      "Макисмальная разница медиан продаж для MarketSize=Small: 13%\n"
     ]
    }
   ],
   "source": [
    "# Разница медиан объемов продаж в первые 4 недели:\n",
    "\n",
    "print('Макисмальная разница медиан продаж для MarketSize={}: {}%'.format('Large', round((302-200)*100/302)))\n",
    "print('Макисмальная разница медиан продаж для MarketSize={}: {}%'.format('Medium', round((188-163)*100/188)))\n",
    "print('Макисмальная разница медиан продаж для MarketSize={}: {}%'.format('Small', round((235-205)*100/235)))"
   ]
  },
  {
   "cell_type": "code",
   "execution_count": 128,
   "id": "6624e753",
   "metadata": {},
   "outputs": [
    {
     "name": "stdout",
     "output_type": "stream",
     "text": [
      "MarketSize=Small соответствует p-value: 0.03282165832666328\n",
      "MarketSize=Medium соответствует p-value: 0.0004026880364685163\n",
      "MarketSize=Large соответствует p-value: 0.001007122001436089\n"
     ]
    }
   ],
   "source": [
    "# Результаты теста Краскала-Уоллиса для каждого типа MarketSize магазина:\n",
    "\n",
    "print('MarketSize=Small соответствует p-value: 0.03282165832666328')\n",
    "print('MarketSize=Medium соответствует p-value: 0.0004026880364685163')\n",
    "print('MarketSize=Large соответствует p-value: 0.001007122001436089')"
   ]
  },
  {
   "cell_type": "code",
   "execution_count": null,
   "id": "103b612a",
   "metadata": {},
   "outputs": [],
   "source": []
  },
  {
   "cell_type": "markdown",
   "id": "d4c00e1c",
   "metadata": {},
   "source": [
    "***В результате можем заключать, что наиболее существенные различия в объемах продаж первых 4 недель наблюдаются между маркетинговыми стратегиями внутри отделенных типов рынка (MarketSize). То есть взаимодействия фактора Promotion и MarketSize.***\n",
    "\n",
    "**Делаем гипотезу, что:**\n",
    "\n",
    "1. Выбор 2 маркетинговой стратегии дает на 34% меньшие объемы продаж в первые 4 месяца после проведения, чем у 1 и 3 стратегий в магазинах с MarketSize=Large.\n",
    "\n",
    "2. Выбор 2 маркетинговой стратегии дает на 13% меньшие объемы продаж в первые 4 месяца после проведения, чем у 1 и 3 стратегий в магазинах с MarketSize=Small и Medium."
   ]
  },
  {
   "cell_type": "markdown",
   "id": "6763daef",
   "metadata": {},
   "source": [
    "# Проверка гипотезы (анализ)."
   ]
  },
  {
   "cell_type": "markdown",
   "id": "f8d15727",
   "metadata": {},
   "source": [
    "Ранее получили, что внутри каждого типа MarketSize выборки продаж в первые 4 недели в зависимости от стратегии гомогенны и ненормальны."
   ]
  },
  {
   "cell_type": "markdown",
   "id": "ce6b68b9",
   "metadata": {},
   "source": [
    "Т.к. условие нормальности выполнить не удалось, для каждого типа MarketSize проводим попарный тест Данна для выборок продаж, соответствующих разным маркетинговым стратегиям (Promotion):"
   ]
  },
  {
   "cell_type": "code",
   "execution_count": 144,
   "id": "06d3745c",
   "metadata": {},
   "outputs": [
    {
     "data": {
      "text/plain": [
       "array(['Medium', 'Small', 'Large'], dtype=object)"
      ]
     },
     "execution_count": 144,
     "metadata": {},
     "output_type": "execute_result"
    }
   ],
   "source": [
    "df.MarketSize.unique()"
   ]
  },
  {
   "cell_type": "markdown",
   "id": "a36aedd0",
   "metadata": {},
   "source": [
    "1. MarketSize = 'Small'"
   ]
  },
  {
   "cell_type": "code",
   "execution_count": 158,
   "id": "c7baeb53",
   "metadata": {},
   "outputs": [
    {
     "data": {
      "text/html": [
       "<div>\n",
       "<style scoped>\n",
       "    .dataframe tbody tr th:only-of-type {\n",
       "        vertical-align: middle;\n",
       "    }\n",
       "\n",
       "    .dataframe tbody tr th {\n",
       "        vertical-align: top;\n",
       "    }\n",
       "\n",
       "    .dataframe thead th {\n",
       "        text-align: right;\n",
       "    }\n",
       "</style>\n",
       "<table border=\"1\" class=\"dataframe\">\n",
       "  <thead>\n",
       "    <tr style=\"text-align: right;\">\n",
       "      <th></th>\n",
       "      <th>sample_list</th>\n",
       "    </tr>\n",
       "    <tr>\n",
       "      <th>Promotion</th>\n",
       "      <th></th>\n",
       "    </tr>\n",
       "  </thead>\n",
       "  <tbody>\n",
       "    <tr>\n",
       "      <th>1</th>\n",
       "      <td>[262.40000000000003, 235.55, 234.75, 242.97, 2...</td>\n",
       "    </tr>\n",
       "    <tr>\n",
       "      <th>2</th>\n",
       "      <td>[209.04, 202.25, 192.54, 209.14]</td>\n",
       "    </tr>\n",
       "    <tr>\n",
       "      <th>3</th>\n",
       "      <td>[241.15, 257.36, 252.07, 233.14, 236.15, 208.4...</td>\n",
       "    </tr>\n",
       "  </tbody>\n",
       "</table>\n",
       "</div>"
      ],
      "text/plain": [
       "                                                 sample_list\n",
       "Promotion                                                   \n",
       "1          [262.40000000000003, 235.55, 234.75, 242.97, 2...\n",
       "2                           [209.04, 202.25, 192.54, 209.14]\n",
       "3          [241.15, 257.36, 252.07, 233.14, 236.15, 208.4..."
      ]
     },
     "execution_count": 158,
     "metadata": {},
     "output_type": "execute_result"
    }
   ],
   "source": [
    "# Датасет с выборками продаж, соответствующими разным маркетинговым стратегиям:\n",
    "\n",
    "samples_df = df.query(\"MarketSize=='Small'\")\\\n",
    "               .groupby('Promotion')\\\n",
    "               .agg({'total_sells':lambda x: x.to_list()})\\\n",
    "               .rename(columns={'total_sells':'sample_list'})\n",
    "samples_df"
   ]
  },
  {
   "cell_type": "code",
   "execution_count": 166,
   "id": "b929111f",
   "metadata": {},
   "outputs": [],
   "source": [
    "# Список выборок:\n",
    "\n",
    "samples = samples_df.sample_list.to_list()"
   ]
  },
  {
   "cell_type": "code",
   "execution_count": 178,
   "id": "97a3a701",
   "metadata": {},
   "outputs": [
    {
     "data": {
      "text/html": [
       "<div>\n",
       "<style scoped>\n",
       "    .dataframe tbody tr th:only-of-type {\n",
       "        vertical-align: middle;\n",
       "    }\n",
       "\n",
       "    .dataframe tbody tr th {\n",
       "        vertical-align: top;\n",
       "    }\n",
       "\n",
       "    .dataframe thead th {\n",
       "        text-align: right;\n",
       "    }\n",
       "</style>\n",
       "<table border=\"1\" class=\"dataframe\">\n",
       "  <thead>\n",
       "    <tr style=\"text-align: right;\">\n",
       "      <th></th>\n",
       "      <th>Promotion_1</th>\n",
       "      <th>Promotion_2</th>\n",
       "      <th>Promotion_3</th>\n",
       "    </tr>\n",
       "  </thead>\n",
       "  <tbody>\n",
       "    <tr>\n",
       "      <th>Promotion_1</th>\n",
       "      <td>1.000000</td>\n",
       "      <td>0.019631</td>\n",
       "      <td>0.902035</td>\n",
       "    </tr>\n",
       "    <tr>\n",
       "      <th>Promotion_2</th>\n",
       "      <td>0.019631</td>\n",
       "      <td>1.000000</td>\n",
       "      <td>0.020921</td>\n",
       "    </tr>\n",
       "    <tr>\n",
       "      <th>Promotion_3</th>\n",
       "      <td>0.902035</td>\n",
       "      <td>0.020921</td>\n",
       "      <td>1.000000</td>\n",
       "    </tr>\n",
       "  </tbody>\n",
       "</table>\n",
       "</div>"
      ],
      "text/plain": [
       "             Promotion_1  Promotion_2  Promotion_3\n",
       "Promotion_1     1.000000     0.019631     0.902035\n",
       "Promotion_2     0.019631     1.000000     0.020921\n",
       "Promotion_3     0.902035     0.020921     1.000000"
      ]
     },
     "execution_count": 178,
     "metadata": {},
     "output_type": "execute_result"
    }
   ],
   "source": [
    "# Строим таблицу p-value того, что стратегии (promo) на пересечнии - дают стат. значимо не различные выборки продаж:\n",
    "\n",
    "dunn_table = sp.posthoc_dunn(samples)\n",
    "dunn_table.index = ['Promotion_1', 'Promotion_2', 'Promotion_3']\n",
    "dunn_table.columns = ['Promotion_1', 'Promotion_2', 'Promotion_3']\n",
    "dunn_table"
   ]
  },
  {
   "cell_type": "code",
   "execution_count": 179,
   "id": "fec0c1fa",
   "metadata": {},
   "outputs": [
    {
     "data": {
      "text/html": [
       "<div>\n",
       "<style scoped>\n",
       "    .dataframe tbody tr th:only-of-type {\n",
       "        vertical-align: middle;\n",
       "    }\n",
       "\n",
       "    .dataframe tbody tr th {\n",
       "        vertical-align: top;\n",
       "    }\n",
       "\n",
       "    .dataframe thead th {\n",
       "        text-align: right;\n",
       "    }\n",
       "</style>\n",
       "<table border=\"1\" class=\"dataframe\">\n",
       "  <thead>\n",
       "    <tr style=\"text-align: right;\">\n",
       "      <th></th>\n",
       "      <th>Promotion_1</th>\n",
       "      <th>Promotion_2</th>\n",
       "      <th>Promotion_3</th>\n",
       "    </tr>\n",
       "  </thead>\n",
       "  <tbody>\n",
       "    <tr>\n",
       "      <th>Promotion_1</th>\n",
       "      <td>False</td>\n",
       "      <td>True</td>\n",
       "      <td>False</td>\n",
       "    </tr>\n",
       "    <tr>\n",
       "      <th>Promotion_2</th>\n",
       "      <td>True</td>\n",
       "      <td>False</td>\n",
       "      <td>True</td>\n",
       "    </tr>\n",
       "    <tr>\n",
       "      <th>Promotion_3</th>\n",
       "      <td>False</td>\n",
       "      <td>True</td>\n",
       "      <td>False</td>\n",
       "    </tr>\n",
       "  </tbody>\n",
       "</table>\n",
       "</div>"
      ],
      "text/plain": [
       "             Promotion_1  Promotion_2  Promotion_3\n",
       "Promotion_1        False         True        False\n",
       "Promotion_2         True        False         True\n",
       "Promotion_3        False         True        False"
      ]
     },
     "execution_count": 179,
     "metadata": {},
     "output_type": "execute_result"
    }
   ],
   "source": [
    "# Таким образом, если p-value<0.05, то принимаем, что данные выборки продаж стат. значимо различны:\n",
    "\n",
    "dunn_table<0.05"
   ]
  },
  {
   "cell_type": "markdown",
   "id": "6251aaf7",
   "metadata": {},
   "source": [
    "**Получаем стат. значимые отличия объемов продаж для между маркетинговыми стратегиями 1 и 2 ; 3 и 2. Стратегии 1 и 3 не дают стат. значимого различия в продажах.**"
   ]
  },
  {
   "cell_type": "code",
   "execution_count": null,
   "id": "f9e197e9",
   "metadata": {},
   "outputs": [],
   "source": []
  },
  {
   "cell_type": "markdown",
   "id": "f13e2834",
   "metadata": {},
   "source": [
    "2. MarketSize = 'Medium'"
   ]
  },
  {
   "cell_type": "code",
   "execution_count": 180,
   "id": "092897c6",
   "metadata": {},
   "outputs": [
    {
     "data": {
      "text/html": [
       "<div>\n",
       "<style scoped>\n",
       "    .dataframe tbody tr th:only-of-type {\n",
       "        vertical-align: middle;\n",
       "    }\n",
       "\n",
       "    .dataframe tbody tr th {\n",
       "        vertical-align: top;\n",
       "    }\n",
       "\n",
       "    .dataframe thead th {\n",
       "        text-align: right;\n",
       "    }\n",
       "</style>\n",
       "<table border=\"1\" class=\"dataframe\">\n",
       "  <thead>\n",
       "    <tr style=\"text-align: right;\">\n",
       "      <th></th>\n",
       "      <th>sample_list</th>\n",
       "    </tr>\n",
       "    <tr>\n",
       "      <th>Promotion</th>\n",
       "      <th></th>\n",
       "    </tr>\n",
       "  </thead>\n",
       "  <tbody>\n",
       "    <tr>\n",
       "      <th>1</th>\n",
       "      <td>[162.72, 172.97000000000003, 158.06, 151.14, 1...</td>\n",
       "    </tr>\n",
       "    <tr>\n",
       "      <th>2</th>\n",
       "      <td>[118.18, 134.82999999999998, 116.0099999999999...</td>\n",
       "    </tr>\n",
       "    <tr>\n",
       "      <th>3</th>\n",
       "      <td>[137.68, 124.74000000000001, 145.45, 196.16, 1...</td>\n",
       "    </tr>\n",
       "  </tbody>\n",
       "</table>\n",
       "</div>"
      ],
      "text/plain": [
       "                                                 sample_list\n",
       "Promotion                                                   \n",
       "1          [162.72, 172.97000000000003, 158.06, 151.14, 1...\n",
       "2          [118.18, 134.82999999999998, 116.0099999999999...\n",
       "3          [137.68, 124.74000000000001, 145.45, 196.16, 1..."
      ]
     },
     "execution_count": 180,
     "metadata": {},
     "output_type": "execute_result"
    }
   ],
   "source": [
    "# Датасет с выборками продаж, соответствующими разным маркетинговым стратегиям:\n",
    "\n",
    "samples_df = df.query(\"MarketSize=='Medium'\")\\\n",
    "               .groupby('Promotion')\\\n",
    "               .agg({'total_sells':lambda x: x.to_list()})\\\n",
    "               .rename(columns={'total_sells':'sample_list'})\n",
    "samples_df"
   ]
  },
  {
   "cell_type": "code",
   "execution_count": 181,
   "id": "a7270f19",
   "metadata": {},
   "outputs": [],
   "source": [
    "# Список выборок:\n",
    "\n",
    "samples = samples_df.sample_list.to_list()"
   ]
  },
  {
   "cell_type": "code",
   "execution_count": 186,
   "id": "64ec8db3",
   "metadata": {},
   "outputs": [
    {
     "data": {
      "text/html": [
       "<div>\n",
       "<style scoped>\n",
       "    .dataframe tbody tr th:only-of-type {\n",
       "        vertical-align: middle;\n",
       "    }\n",
       "\n",
       "    .dataframe tbody tr th {\n",
       "        vertical-align: top;\n",
       "    }\n",
       "\n",
       "    .dataframe thead th {\n",
       "        text-align: right;\n",
       "    }\n",
       "</style>\n",
       "<table border=\"1\" class=\"dataframe\">\n",
       "  <thead>\n",
       "    <tr style=\"text-align: right;\">\n",
       "      <th></th>\n",
       "      <th>Promotion_1</th>\n",
       "      <th>Promotion_2</th>\n",
       "      <th>Promotion_3</th>\n",
       "    </tr>\n",
       "  </thead>\n",
       "  <tbody>\n",
       "    <tr>\n",
       "      <th>Promotion_1</th>\n",
       "      <td>1.000000</td>\n",
       "      <td>0.000782</td>\n",
       "      <td>0.772882</td>\n",
       "    </tr>\n",
       "    <tr>\n",
       "      <th>Promotion_2</th>\n",
       "      <td>0.000782</td>\n",
       "      <td>1.000000</td>\n",
       "      <td>0.003482</td>\n",
       "    </tr>\n",
       "    <tr>\n",
       "      <th>Promotion_3</th>\n",
       "      <td>0.772882</td>\n",
       "      <td>0.003482</td>\n",
       "      <td>1.000000</td>\n",
       "    </tr>\n",
       "  </tbody>\n",
       "</table>\n",
       "</div>"
      ],
      "text/plain": [
       "             Promotion_1  Promotion_2  Promotion_3\n",
       "Promotion_1     1.000000     0.000782     0.772882\n",
       "Promotion_2     0.000782     1.000000     0.003482\n",
       "Promotion_3     0.772882     0.003482     1.000000"
      ]
     },
     "execution_count": 186,
     "metadata": {},
     "output_type": "execute_result"
    }
   ],
   "source": [
    "# Строим таблицу p-value того, что стратегии (promo) на пересечнии - дают стат. значимо не различные выборки продаж:\n",
    "\n",
    "dunn_table = sp.posthoc_dunn(samples)\n",
    "dunn_table.index = ['Promotion_1', 'Promotion_2', 'Promotion_3']\n",
    "dunn_table.columns = ['Promotion_1', 'Promotion_2', 'Promotion_3']\n",
    "dunn_table"
   ]
  },
  {
   "cell_type": "code",
   "execution_count": 183,
   "id": "312b5eb1",
   "metadata": {},
   "outputs": [
    {
     "data": {
      "text/html": [
       "<div>\n",
       "<style scoped>\n",
       "    .dataframe tbody tr th:only-of-type {\n",
       "        vertical-align: middle;\n",
       "    }\n",
       "\n",
       "    .dataframe tbody tr th {\n",
       "        vertical-align: top;\n",
       "    }\n",
       "\n",
       "    .dataframe thead th {\n",
       "        text-align: right;\n",
       "    }\n",
       "</style>\n",
       "<table border=\"1\" class=\"dataframe\">\n",
       "  <thead>\n",
       "    <tr style=\"text-align: right;\">\n",
       "      <th></th>\n",
       "      <th>Promotion_1</th>\n",
       "      <th>Promotion_2</th>\n",
       "      <th>Promotion_3</th>\n",
       "    </tr>\n",
       "  </thead>\n",
       "  <tbody>\n",
       "    <tr>\n",
       "      <th>Promotion_1</th>\n",
       "      <td>False</td>\n",
       "      <td>True</td>\n",
       "      <td>False</td>\n",
       "    </tr>\n",
       "    <tr>\n",
       "      <th>Promotion_2</th>\n",
       "      <td>True</td>\n",
       "      <td>False</td>\n",
       "      <td>True</td>\n",
       "    </tr>\n",
       "    <tr>\n",
       "      <th>Promotion_3</th>\n",
       "      <td>False</td>\n",
       "      <td>True</td>\n",
       "      <td>False</td>\n",
       "    </tr>\n",
       "  </tbody>\n",
       "</table>\n",
       "</div>"
      ],
      "text/plain": [
       "             Promotion_1  Promotion_2  Promotion_3\n",
       "Promotion_1        False         True        False\n",
       "Promotion_2         True        False         True\n",
       "Promotion_3        False         True        False"
      ]
     },
     "execution_count": 183,
     "metadata": {},
     "output_type": "execute_result"
    }
   ],
   "source": [
    "# Таким образом, если p-value<0.05, то принимаем, что данные выборки продаж стат. значимо различны:\n",
    "\n",
    "dunn_table<0.05"
   ]
  },
  {
   "cell_type": "markdown",
   "id": "b6fdc332",
   "metadata": {},
   "source": [
    "**Также получаем стат. значимые отличия объемов продаж для между маркетинговыми стратегиями 1 и 2 ; 3 и 2. Стратегии 1 и 3 не дают стат. значимого различия в продажах.**"
   ]
  },
  {
   "cell_type": "code",
   "execution_count": null,
   "id": "d61d47d8",
   "metadata": {},
   "outputs": [],
   "source": []
  },
  {
   "cell_type": "markdown",
   "id": "41192b20",
   "metadata": {},
   "source": [
    "2. MarketSize = 'Large'"
   ]
  },
  {
   "cell_type": "code",
   "execution_count": 184,
   "id": "3d6fd7b3",
   "metadata": {},
   "outputs": [
    {
     "data": {
      "text/html": [
       "<div>\n",
       "<style scoped>\n",
       "    .dataframe tbody tr th:only-of-type {\n",
       "        vertical-align: middle;\n",
       "    }\n",
       "\n",
       "    .dataframe tbody tr th {\n",
       "        vertical-align: top;\n",
       "    }\n",
       "\n",
       "    .dataframe thead th {\n",
       "        text-align: right;\n",
       "    }\n",
       "</style>\n",
       "<table border=\"1\" class=\"dataframe\">\n",
       "  <thead>\n",
       "    <tr style=\"text-align: right;\">\n",
       "      <th></th>\n",
       "      <th>sample_list</th>\n",
       "    </tr>\n",
       "    <tr>\n",
       "      <th>Promotion</th>\n",
       "      <th></th>\n",
       "    </tr>\n",
       "  </thead>\n",
       "  <tbody>\n",
       "    <tr>\n",
       "      <th>1</th>\n",
       "      <td>[349.66, 380.36, 357.05, 349.5, 364.5, 361.37,...</td>\n",
       "    </tr>\n",
       "    <tr>\n",
       "      <th>2</th>\n",
       "      <td>[332.63000000000005, 331.78999999999996, 307.2...</td>\n",
       "    </tr>\n",
       "    <tr>\n",
       "      <th>3</th>\n",
       "      <td>[325.23, 333.36, 348.27, 336.57, 344.65, 354.3...</td>\n",
       "    </tr>\n",
       "  </tbody>\n",
       "</table>\n",
       "</div>"
      ],
      "text/plain": [
       "                                                 sample_list\n",
       "Promotion                                                   \n",
       "1          [349.66, 380.36, 357.05, 349.5, 364.5, 361.37,...\n",
       "2          [332.63000000000005, 331.78999999999996, 307.2...\n",
       "3          [325.23, 333.36, 348.27, 336.57, 344.65, 354.3..."
      ]
     },
     "execution_count": 184,
     "metadata": {},
     "output_type": "execute_result"
    }
   ],
   "source": [
    "# Датасет с выборками продаж, соответствующими разным маркетинговым стратегиям:\n",
    "\n",
    "samples_df = df.query(\"MarketSize=='Large'\")\\\n",
    "               .groupby('Promotion')\\\n",
    "               .agg({'total_sells':lambda x: x.to_list()})\\\n",
    "               .rename(columns={'total_sells':'sample_list'})\n",
    "samples_df"
   ]
  },
  {
   "cell_type": "code",
   "execution_count": 185,
   "id": "71b03cbc",
   "metadata": {},
   "outputs": [],
   "source": [
    "# Список выборок:\n",
    "\n",
    "samples = samples_df.sample_list.to_list()"
   ]
  },
  {
   "cell_type": "code",
   "execution_count": 187,
   "id": "581a2ab8",
   "metadata": {},
   "outputs": [
    {
     "data": {
      "text/html": [
       "<div>\n",
       "<style scoped>\n",
       "    .dataframe tbody tr th:only-of-type {\n",
       "        vertical-align: middle;\n",
       "    }\n",
       "\n",
       "    .dataframe tbody tr th {\n",
       "        vertical-align: top;\n",
       "    }\n",
       "\n",
       "    .dataframe thead th {\n",
       "        text-align: right;\n",
       "    }\n",
       "</style>\n",
       "<table border=\"1\" class=\"dataframe\">\n",
       "  <thead>\n",
       "    <tr style=\"text-align: right;\">\n",
       "      <th></th>\n",
       "      <th>Promotion_1</th>\n",
       "      <th>Promotion_2</th>\n",
       "      <th>Promotion_3</th>\n",
       "    </tr>\n",
       "  </thead>\n",
       "  <tbody>\n",
       "    <tr>\n",
       "      <th>Promotion_1</th>\n",
       "      <td>1.000000</td>\n",
       "      <td>0.000782</td>\n",
       "      <td>0.772882</td>\n",
       "    </tr>\n",
       "    <tr>\n",
       "      <th>Promotion_2</th>\n",
       "      <td>0.000782</td>\n",
       "      <td>1.000000</td>\n",
       "      <td>0.003482</td>\n",
       "    </tr>\n",
       "    <tr>\n",
       "      <th>Promotion_3</th>\n",
       "      <td>0.772882</td>\n",
       "      <td>0.003482</td>\n",
       "      <td>1.000000</td>\n",
       "    </tr>\n",
       "  </tbody>\n",
       "</table>\n",
       "</div>"
      ],
      "text/plain": [
       "             Promotion_1  Promotion_2  Promotion_3\n",
       "Promotion_1     1.000000     0.000782     0.772882\n",
       "Promotion_2     0.000782     1.000000     0.003482\n",
       "Promotion_3     0.772882     0.003482     1.000000"
      ]
     },
     "execution_count": 187,
     "metadata": {},
     "output_type": "execute_result"
    }
   ],
   "source": [
    "# Строим таблицу p-value того, что стратегии (promo) на пересечнии - дают стат. значимо не различные выборки продаж:\n",
    "\n",
    "dunn_table = sp.posthoc_dunn(samples)\n",
    "dunn_table.index = ['Promotion_1', 'Promotion_2', 'Promotion_3']\n",
    "dunn_table.columns = ['Promotion_1', 'Promotion_2', 'Promotion_3']\n",
    "dunn_table"
   ]
  },
  {
   "cell_type": "code",
   "execution_count": 188,
   "id": "a1aad2a7",
   "metadata": {},
   "outputs": [
    {
     "data": {
      "text/html": [
       "<div>\n",
       "<style scoped>\n",
       "    .dataframe tbody tr th:only-of-type {\n",
       "        vertical-align: middle;\n",
       "    }\n",
       "\n",
       "    .dataframe tbody tr th {\n",
       "        vertical-align: top;\n",
       "    }\n",
       "\n",
       "    .dataframe thead th {\n",
       "        text-align: right;\n",
       "    }\n",
       "</style>\n",
       "<table border=\"1\" class=\"dataframe\">\n",
       "  <thead>\n",
       "    <tr style=\"text-align: right;\">\n",
       "      <th></th>\n",
       "      <th>Promotion_1</th>\n",
       "      <th>Promotion_2</th>\n",
       "      <th>Promotion_3</th>\n",
       "    </tr>\n",
       "  </thead>\n",
       "  <tbody>\n",
       "    <tr>\n",
       "      <th>Promotion_1</th>\n",
       "      <td>False</td>\n",
       "      <td>True</td>\n",
       "      <td>False</td>\n",
       "    </tr>\n",
       "    <tr>\n",
       "      <th>Promotion_2</th>\n",
       "      <td>True</td>\n",
       "      <td>False</td>\n",
       "      <td>True</td>\n",
       "    </tr>\n",
       "    <tr>\n",
       "      <th>Promotion_3</th>\n",
       "      <td>False</td>\n",
       "      <td>True</td>\n",
       "      <td>False</td>\n",
       "    </tr>\n",
       "  </tbody>\n",
       "</table>\n",
       "</div>"
      ],
      "text/plain": [
       "             Promotion_1  Promotion_2  Promotion_3\n",
       "Promotion_1        False         True        False\n",
       "Promotion_2         True        False         True\n",
       "Promotion_3        False         True        False"
      ]
     },
     "execution_count": 188,
     "metadata": {},
     "output_type": "execute_result"
    }
   ],
   "source": [
    "# Таким образом, если p-value<0.05, то принимаем, что данные выборки продаж стат. значимо различны:\n",
    "\n",
    "dunn_table<0.05"
   ]
  },
  {
   "cell_type": "markdown",
   "id": "3a56a126",
   "metadata": {},
   "source": [
    "**Также получаем стат. значимые отличия объемов продаж для между маркетинговыми стратегиями 1 и 2 ; 3 и 2. Стратегии 1 и 3 не дают стат. значимого различия в продажах.**"
   ]
  },
  {
   "cell_type": "code",
   "execution_count": null,
   "id": "ffd1993a",
   "metadata": {},
   "outputs": [],
   "source": []
  },
  {
   "cell_type": "markdown",
   "id": "3dc14263",
   "metadata": {},
   "source": [
    "# Вывод."
   ]
  },
  {
   "cell_type": "markdown",
   "id": "9aa968ca",
   "metadata": {},
   "source": [
    "Гипотезы подтвердились.\n",
    "\n",
    "Можно говорить, что в рамках данного эксперимента со статистической значимостью 95% можно заключить, что:\n",
    "\n",
    "1. Выбор 2 маркетинговой стратегии дает на 34% меньшие объемы продаж в первые 4 месяца после проведения, чем у 1 и 3 стратегий в магазинах с MarketSize=Large.\n",
    "\n",
    "2. Выбор 2 маркетинговой стратегии дает на 13% меньшие объемы продаж в первые 4 месяца после проведения, чем у 1 и 3 стратегий в магазинах с MarketSize=Small и Medium."
   ]
  },
  {
   "cell_type": "markdown",
   "id": "9b448502",
   "metadata": {},
   "source": [
    "Таким образом мы получили, что независимо от размера рынка магазина (MarketSize) 1 и 3 маркетинговая стратегии работают лучше, чем 2. Нашей сети магазинов фаст-фуда необходимо далее сфокусироваться на этих двух стартегиях и исключить вторую из дальнейших кампаний."
   ]
  }
 ],
 "metadata": {
  "kernelspec": {
   "display_name": "Python 3",
   "language": "python",
   "name": "python3"
  },
  "language_info": {
   "codemirror_mode": {
    "name": "ipython",
    "version": 3
   },
   "file_extension": ".py",
   "mimetype": "text/x-python",
   "name": "python",
   "nbconvert_exporter": "python",
   "pygments_lexer": "ipython3",
   "version": "3.8.8"
  }
 },
 "nbformat": 4,
 "nbformat_minor": 5
}
